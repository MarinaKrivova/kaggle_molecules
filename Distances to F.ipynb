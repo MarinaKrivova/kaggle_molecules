{
 "cells": [
  {
   "cell_type": "markdown",
   "metadata": {},
   "source": [
    "# Nearest atoms from KDTree\n",
    "## New hyperparameter for tuning - radius\n",
    "### radius = max distance for atoms to be neighbors"
   ]
  },
  {
   "cell_type": "code",
   "execution_count": 237,
   "metadata": {
    "_cell_guid": "b1076dfc-b9ad-4769-8c92-a6c4dae69d19",
    "_uuid": "8f2839f25d086af736a60e9eeb907d3b93b6e0e5"
   },
   "outputs": [],
   "source": [
    "import numpy as np # linear algebra\n",
    "import pandas as pd # data processing, CSV file I/O (e.g. pd.read_csv)\n",
    "\n",
    "from scipy.spatial import cKDTree as KDTree\n",
    "from tqdm import tqdm_notebook as tqdm"
   ]
  },
  {
   "cell_type": "code",
   "execution_count": 238,
   "metadata": {},
   "outputs": [],
   "source": [
    "train= pd.read_csv('champs-scalar-coupling/train.csv') # Load only first 20 rows\n",
    "# test= pd.read_csv('champs-scalar-coupling/test.csv')\n",
    "structures= pd.read_csv('champs-scalar-coupling/structures.csv')"
   ]
  },
  {
   "cell_type": "code",
   "execution_count": 239,
   "metadata": {},
   "outputs": [
    {
     "data": {
      "text/plain": [
       "1907"
      ]
     },
     "execution_count": 239,
     "metadata": {},
     "output_type": "execute_result"
    }
   ],
   "source": [
    "# molecules with F atom\n",
    "mol_F = structures[structures['atom']=='F']['molecule_name'].unique()\n",
    "len(mol_F)"
   ]
  },
  {
   "cell_type": "code",
   "execution_count": 240,
   "metadata": {},
   "outputs": [],
   "source": [
    "structures[structures.molecule_name==mol_F[0]].to_csv('mol_f.csv')"
   ]
  },
  {
   "cell_type": "code",
   "execution_count": 241,
   "metadata": {},
   "outputs": [
    {
     "data": {
      "text/plain": [
       "79827"
      ]
     },
     "execution_count": 241,
     "metadata": {},
     "output_type": "execute_result"
    }
   ],
   "source": [
    "# molecules with N atom\n",
    "mol_N = structures[structures['atom']=='N']['molecule_name'].unique()\n",
    "len(mol_N)"
   ]
  },
  {
   "cell_type": "code",
   "execution_count": 242,
   "metadata": {},
   "outputs": [
    {
     "data": {
      "text/plain": [
       "111279"
      ]
     },
     "execution_count": 242,
     "metadata": {},
     "output_type": "execute_result"
    }
   ],
   "source": [
    "# molecules with O atom\n",
    "mol_O = structures[structures['atom']=='O']['molecule_name'].unique()\n",
    "len(mol_O)"
   ]
  },
  {
   "cell_type": "code",
   "execution_count": 243,
   "metadata": {},
   "outputs": [
    {
     "data": {
      "text/html": [
       "<div>\n",
       "<style scoped>\n",
       "    .dataframe tbody tr th:only-of-type {\n",
       "        vertical-align: middle;\n",
       "    }\n",
       "\n",
       "    .dataframe tbody tr th {\n",
       "        vertical-align: top;\n",
       "    }\n",
       "\n",
       "    .dataframe thead th {\n",
       "        text-align: right;\n",
       "    }\n",
       "</style>\n",
       "<table border=\"1\" class=\"dataframe\">\n",
       "  <thead>\n",
       "    <tr style=\"text-align: right;\">\n",
       "      <th></th>\n",
       "      <th>molecule_name</th>\n",
       "      <th>atom_index</th>\n",
       "      <th>atom</th>\n",
       "      <th>x</th>\n",
       "      <th>y</th>\n",
       "      <th>z</th>\n",
       "    </tr>\n",
       "  </thead>\n",
       "  <tbody>\n",
       "    <tr>\n",
       "      <th>0</th>\n",
       "      <td>dsgdb9nsd_000001</td>\n",
       "      <td>0</td>\n",
       "      <td>C</td>\n",
       "      <td>-0.012698</td>\n",
       "      <td>1.085804</td>\n",
       "      <td>0.008001</td>\n",
       "    </tr>\n",
       "    <tr>\n",
       "      <th>1</th>\n",
       "      <td>dsgdb9nsd_000001</td>\n",
       "      <td>1</td>\n",
       "      <td>H</td>\n",
       "      <td>0.002150</td>\n",
       "      <td>-0.006031</td>\n",
       "      <td>0.001976</td>\n",
       "    </tr>\n",
       "    <tr>\n",
       "      <th>2</th>\n",
       "      <td>dsgdb9nsd_000001</td>\n",
       "      <td>2</td>\n",
       "      <td>H</td>\n",
       "      <td>1.011731</td>\n",
       "      <td>1.463751</td>\n",
       "      <td>0.000277</td>\n",
       "    </tr>\n",
       "    <tr>\n",
       "      <th>3</th>\n",
       "      <td>dsgdb9nsd_000001</td>\n",
       "      <td>3</td>\n",
       "      <td>H</td>\n",
       "      <td>-0.540815</td>\n",
       "      <td>1.447527</td>\n",
       "      <td>-0.876644</td>\n",
       "    </tr>\n",
       "    <tr>\n",
       "      <th>4</th>\n",
       "      <td>dsgdb9nsd_000001</td>\n",
       "      <td>4</td>\n",
       "      <td>H</td>\n",
       "      <td>-0.523814</td>\n",
       "      <td>1.437933</td>\n",
       "      <td>0.906397</td>\n",
       "    </tr>\n",
       "  </tbody>\n",
       "</table>\n",
       "</div>"
      ],
      "text/plain": [
       "      molecule_name  atom_index atom         x         y         z\n",
       "0  dsgdb9nsd_000001           0    C -0.012698  1.085804  0.008001\n",
       "1  dsgdb9nsd_000001           1    H  0.002150 -0.006031  0.001976\n",
       "2  dsgdb9nsd_000001           2    H  1.011731  1.463751  0.000277\n",
       "3  dsgdb9nsd_000001           3    H -0.540815  1.447527 -0.876644\n",
       "4  dsgdb9nsd_000001           4    H -0.523814  1.437933  0.906397"
      ]
     },
     "execution_count": 243,
     "metadata": {},
     "output_type": "execute_result"
    }
   ],
   "source": [
    "structures.head()"
   ]
  },
  {
   "cell_type": "code",
   "execution_count": 244,
   "metadata": {},
   "outputs": [
    {
     "data": {
      "text/html": [
       "<div>\n",
       "<style scoped>\n",
       "    .dataframe tbody tr th:only-of-type {\n",
       "        vertical-align: middle;\n",
       "    }\n",
       "\n",
       "    .dataframe tbody tr th {\n",
       "        vertical-align: top;\n",
       "    }\n",
       "\n",
       "    .dataframe thead th {\n",
       "        text-align: right;\n",
       "    }\n",
       "</style>\n",
       "<table border=\"1\" class=\"dataframe\">\n",
       "  <thead>\n",
       "    <tr style=\"text-align: right;\">\n",
       "      <th>atom</th>\n",
       "      <th>molecule_name</th>\n",
       "      <th>C</th>\n",
       "      <th>F</th>\n",
       "      <th>H</th>\n",
       "      <th>N</th>\n",
       "      <th>O</th>\n",
       "      <th>total</th>\n",
       "    </tr>\n",
       "  </thead>\n",
       "  <tbody>\n",
       "    <tr>\n",
       "      <th>0</th>\n",
       "      <td>dsgdb9nsd_000001</td>\n",
       "      <td>1.0</td>\n",
       "      <td>0.0</td>\n",
       "      <td>4.0</td>\n",
       "      <td>0.0</td>\n",
       "      <td>0.0</td>\n",
       "      <td>5</td>\n",
       "    </tr>\n",
       "    <tr>\n",
       "      <th>1</th>\n",
       "      <td>dsgdb9nsd_000002</td>\n",
       "      <td>0.0</td>\n",
       "      <td>0.0</td>\n",
       "      <td>3.0</td>\n",
       "      <td>1.0</td>\n",
       "      <td>0.0</td>\n",
       "      <td>4</td>\n",
       "    </tr>\n",
       "    <tr>\n",
       "      <th>2</th>\n",
       "      <td>dsgdb9nsd_000003</td>\n",
       "      <td>0.0</td>\n",
       "      <td>0.0</td>\n",
       "      <td>2.0</td>\n",
       "      <td>0.0</td>\n",
       "      <td>1.0</td>\n",
       "      <td>3</td>\n",
       "    </tr>\n",
       "    <tr>\n",
       "      <th>3</th>\n",
       "      <td>dsgdb9nsd_000004</td>\n",
       "      <td>2.0</td>\n",
       "      <td>0.0</td>\n",
       "      <td>2.0</td>\n",
       "      <td>0.0</td>\n",
       "      <td>0.0</td>\n",
       "      <td>4</td>\n",
       "    </tr>\n",
       "    <tr>\n",
       "      <th>4</th>\n",
       "      <td>dsgdb9nsd_000005</td>\n",
       "      <td>1.0</td>\n",
       "      <td>0.0</td>\n",
       "      <td>1.0</td>\n",
       "      <td>1.0</td>\n",
       "      <td>0.0</td>\n",
       "      <td>3</td>\n",
       "    </tr>\n",
       "    <tr>\n",
       "      <th>5</th>\n",
       "      <td>dsgdb9nsd_000007</td>\n",
       "      <td>2.0</td>\n",
       "      <td>0.0</td>\n",
       "      <td>6.0</td>\n",
       "      <td>0.0</td>\n",
       "      <td>0.0</td>\n",
       "      <td>8</td>\n",
       "    </tr>\n",
       "    <tr>\n",
       "      <th>6</th>\n",
       "      <td>dsgdb9nsd_000008</td>\n",
       "      <td>1.0</td>\n",
       "      <td>0.0</td>\n",
       "      <td>4.0</td>\n",
       "      <td>0.0</td>\n",
       "      <td>1.0</td>\n",
       "      <td>6</td>\n",
       "    </tr>\n",
       "    <tr>\n",
       "      <th>7</th>\n",
       "      <td>dsgdb9nsd_000009</td>\n",
       "      <td>3.0</td>\n",
       "      <td>0.0</td>\n",
       "      <td>4.0</td>\n",
       "      <td>0.0</td>\n",
       "      <td>0.0</td>\n",
       "      <td>7</td>\n",
       "    </tr>\n",
       "    <tr>\n",
       "      <th>8</th>\n",
       "      <td>dsgdb9nsd_000010</td>\n",
       "      <td>2.0</td>\n",
       "      <td>0.0</td>\n",
       "      <td>3.0</td>\n",
       "      <td>1.0</td>\n",
       "      <td>0.0</td>\n",
       "      <td>6</td>\n",
       "    </tr>\n",
       "    <tr>\n",
       "      <th>9</th>\n",
       "      <td>dsgdb9nsd_000011</td>\n",
       "      <td>2.0</td>\n",
       "      <td>0.0</td>\n",
       "      <td>4.0</td>\n",
       "      <td>0.0</td>\n",
       "      <td>1.0</td>\n",
       "      <td>7</td>\n",
       "    </tr>\n",
       "  </tbody>\n",
       "</table>\n",
       "</div>"
      ],
      "text/plain": [
       "atom     molecule_name    C    F    H    N    O  total\n",
       "0     dsgdb9nsd_000001  1.0  0.0  4.0  0.0  0.0      5\n",
       "1     dsgdb9nsd_000002  0.0  0.0  3.0  1.0  0.0      4\n",
       "2     dsgdb9nsd_000003  0.0  0.0  2.0  0.0  1.0      3\n",
       "3     dsgdb9nsd_000004  2.0  0.0  2.0  0.0  0.0      4\n",
       "4     dsgdb9nsd_000005  1.0  0.0  1.0  1.0  0.0      3\n",
       "5     dsgdb9nsd_000007  2.0  0.0  6.0  0.0  0.0      8\n",
       "6     dsgdb9nsd_000008  1.0  0.0  4.0  0.0  1.0      6\n",
       "7     dsgdb9nsd_000009  3.0  0.0  4.0  0.0  0.0      7\n",
       "8     dsgdb9nsd_000010  2.0  0.0  3.0  1.0  0.0      6\n",
       "9     dsgdb9nsd_000011  2.0  0.0  4.0  0.0  1.0      7"
      ]
     },
     "execution_count": 244,
     "metadata": {},
     "output_type": "execute_result"
    }
   ],
   "source": [
    "struct = structures.groupby(['molecule_name','atom'])['atom_index'].count().unstack().fillna(0).reset_index()\n",
    "struct['total']=structures.groupby('molecule_name')['atom'].count().values\n",
    "struct.head(10)"
   ]
  },
  {
   "cell_type": "code",
   "execution_count": 245,
   "metadata": {},
   "outputs": [
    {
     "name": "stdout",
     "output_type": "stream",
     "text": [
      "Max number of F: 6.0\n",
      "\n",
      "Max number of N: 7.0\n",
      "\n",
      "Max number of O: 5.0\n"
     ]
    }
   ],
   "source": [
    "print(\"Max number of F:\", struct.F.max())\n",
    "print(\"\")\n",
    "print(\"Max number of N:\", struct.N.max())\n",
    "print(\"\")\n",
    "print(\"Max number of O:\", struct.O.max())"
   ]
  },
  {
   "cell_type": "code",
   "execution_count": 333,
   "metadata": {},
   "outputs": [],
   "source": [
    "def add_col_atom(df, atom, number_atoms):\n",
    "    \"\"\"Add new columns with the distances to heteroatoms.\n",
    "       F1 corresponds to the nearest atom F.\n",
    "       If F is absent in the molecule, we set large distance.\"\"\"\n",
    "    \n",
    "    for i in range(1, number_atoms+1):\n",
    "            df[str(atom)+str(i)]=1000\n",
    "    return df\n",
    "\n",
    "def find_neigb_atom(structures, molecules, atom_to_find, radius):\n",
    "    \"\"\"Radius for finding neighbors\"\"\"\n",
    "    \n",
    "    atom_dict = {'F': 6, 'N': 7, \"O\": 5}\n",
    "    \n",
    "    #Set empty dataframe to store results\n",
    "    df_nieghb = add_col_atom(pd.DataFrame(columns=structures.columns), atom_to_find, atom_dict[atom_to_find])\n",
    "    \n",
    "    for imol,name in tqdm(list(enumerate(molecules))):\n",
    "        \n",
    "        molecule = structures.set_index('molecule_name').loc[name ]\n",
    "        atoms    = molecule.atom.values\n",
    "        atoms_idx= molecule.atom_index.values\n",
    "        \n",
    "        #Set new columns and rewrite some values\n",
    "        res= add_col_atom(molecule.reset_index(),atom_to_find, atom_dict[atom_to_find])\n",
    "        \n",
    "        coords   = molecule[['x', 'y', 'z']].values\n",
    "        kdt = KDTree(coords)\n",
    "        \n",
    "        for a0 in atoms_idx:\n",
    "            \n",
    "            distances, inds = kdt.query(coords[a0], len(atoms))\n",
    "            \n",
    "            distances = distances[1:sum(distances<radius)]; # remove a0 from list\n",
    "           \n",
    "            inds = inds[1:sum(distances<radius)+1]\n",
    "\n",
    "            dist_atom = distances[atoms[inds] == atom_to_find]\n",
    "            ind_atom = inds[atoms[inds] == atom_to_find]\n",
    "           \n",
    "            for i, d in enumerate(dist_atom,1): # print(i,  d) -> 0 (0, 3.381815264756334), 1 (2, 3.382439208351072\n",
    "                res.loc[a0, str(atom_to_find)+str(i)]=d\n",
    "        \n",
    "        df_nieghb = df_nieghb.append(res, ignore_index=True)\n",
    "        \n",
    "        print(df_nieghb.shape)\n",
    "    \n",
    "    return df_nieghb#, out_dist, out_atoms"
   ]
  },
  {
   "cell_type": "code",
   "execution_count": 334,
   "metadata": {},
   "outputs": [],
   "source": [
    "#Set hyperparameters\n",
    "#atom_dict = {'F': int(struct.F.max()), 'N': int(struct.N.max()), \"O\": int(struct.O.max())}\n",
    "atom_dict = {'F': 6, 'N': 7, \"O\": 5}\n",
    "radius_dist=3"
   ]
  },
  {
   "cell_type": "code",
   "execution_count": 335,
   "metadata": {},
   "outputs": [
    {
     "data": {
      "application/vnd.jupyter.widget-view+json": {
       "model_id": "d9c41c2b14954167bcb5af1e435f8108",
       "version_major": 2,
       "version_minor": 0
      },
      "text/html": [
       "<p>Failed to display Jupyter Widget of type <code>HBox</code>.</p>\n",
       "<p>\n",
       "  If you're reading this message in the Jupyter Notebook or JupyterLab Notebook, it may mean\n",
       "  that the widgets JavaScript is still loading. If this message persists, it\n",
       "  likely means that the widgets JavaScript library is either not installed or\n",
       "  not enabled. See the <a href=\"https://ipywidgets.readthedocs.io/en/stable/user_install.html\">Jupyter\n",
       "  Widgets Documentation</a> for setup instructions.\n",
       "</p>\n",
       "<p>\n",
       "  If you're reading this message in another frontend (for example, a static\n",
       "  rendering on GitHub or <a href=\"https://nbviewer.jupyter.org/\">NBViewer</a>),\n",
       "  it may mean that your frontend doesn't currently support widgets.\n",
       "</p>\n"
      ],
      "text/plain": [
       "HBox(children=(IntProgress(value=0, max=10), HTML(value='')))"
      ]
     },
     "metadata": {},
     "output_type": "display_data"
    },
    {
     "name": "stdout",
     "output_type": "stream",
     "text": [
      "(7, 12)\n",
      "(14, 12)\n",
      "(24, 12)\n",
      "(33, 12)\n",
      "(44, 12)\n",
      "(56, 12)\n",
      "(67, 12)\n",
      "(78, 12)\n",
      "(88, 12)\n",
      "(98, 12)\n",
      "CPU times: user 3.41 s, sys: 1.08 s, total: 4.49 s\n",
      "Wall time: 5.68 s\n"
     ]
    }
   ],
   "source": [
    "%%time\n",
    "struct_dist_F= find_neigb_atom(structures, mol_F[:10], 'F', radius_dist)"
   ]
  },
  {
   "cell_type": "code",
   "execution_count": 223,
   "metadata": {},
   "outputs": [],
   "source": [
    "def find_neighbors(structures, molecules, radius):\n",
    "    \"\"\"Radius for finding neighbors\"\"\"\n",
    "    out_atom_index = [] ; out_atom_name = []; \n",
    "    out_name =[] ; out_neigb= []; out_dists= [];\n",
    "    out_neigb_number =[]; out_all_atoms = []\n",
    "    \n",
    "    for imol,name in tqdm(list(enumerate(molecules))):\n",
    "          \n",
    "        molecule = structures.loc[name ]\n",
    "        atoms    = molecule.atom.values\n",
    "        atoms_idx= molecule.atom_index.values\n",
    "        \n",
    "        coords   = molecule[['x', 'y', 'z']].values\n",
    "        kdt = KDTree(coords)\n",
    "        \n",
    "        for a0 in atoms_idx:\n",
    "            out_name.append(name)\n",
    "            #out_all_atoms.append(molecule.shape[0])\n",
    "            \n",
    "            distances, inds = kdt.query(coords[a0], len(atoms))\n",
    "            distances = distances[1:sum(distances<radius)]; # remove a0 from list\n",
    "            inds = inds[1:sum(distances<radius)+1]\n",
    "            \n",
    "            out_all_atoms.append(len(atoms_idx))\n",
    "            out_neigb_number.append(sum(distances<radius))\n",
    "            out_neigb.append(atoms[inds])\n",
    "            out_dists.append(distances)\n",
    "            out_atom_index.append(a0)\n",
    "            out_atom_name.append(atoms[a0])\n",
    "    \n",
    "    neighbors = pd.DataFrame({'molecule_name':out_name, 'atom_index': out_atom_index,'atom': out_atom_name, \n",
    "                              'all_atoms':out_all_atoms,'number_neihgbors': out_neigb_number,'neighbors':out_neigb, \n",
    "                              'L2dist':out_dists})\n",
    "    #return len(out_name), len(out_neigb), len(out_dists)\n",
    "    return neighbors\n",
    " "
   ]
  },
  {
   "cell_type": "code",
   "execution_count": 224,
   "metadata": {},
   "outputs": [],
   "source": [
    "#Set hyperparameter\n",
    "radius=1.8"
   ]
  },
  {
   "cell_type": "code",
   "execution_count": 225,
   "metadata": {},
   "outputs": [
    {
     "data": {
      "application/vnd.jupyter.widget-view+json": {
       "model_id": "16c7a17a9e8e49fd9d76aa2400224860",
       "version_major": 2,
       "version_minor": 0
      },
      "text/html": [
       "<p>Failed to display Jupyter Widget of type <code>HBox</code>.</p>\n",
       "<p>\n",
       "  If you're reading this message in the Jupyter Notebook or JupyterLab Notebook, it may mean\n",
       "  that the widgets JavaScript is still loading. If this message persists, it\n",
       "  likely means that the widgets JavaScript library is either not installed or\n",
       "  not enabled. See the <a href=\"https://ipywidgets.readthedocs.io/en/stable/user_install.html\">Jupyter\n",
       "  Widgets Documentation</a> for setup instructions.\n",
       "</p>\n",
       "<p>\n",
       "  If you're reading this message in another frontend (for example, a static\n",
       "  rendering on GitHub or <a href=\"https://nbviewer.jupyter.org/\">NBViewer</a>),\n",
       "  it may mean that your frontend doesn't currently support widgets.\n",
       "</p>\n"
      ],
      "text/plain": [
       "HBox(children=(IntProgress(value=0, max=85003), HTML(value='')))"
      ]
     },
     "metadata": {},
     "output_type": "display_data"
    },
    {
     "name": "stdout",
     "output_type": "stream",
     "text": [
      "CPU times: user 5min 59s, sys: 13.5 s, total: 6min 12s\n",
      "Wall time: 6min 12s\n"
     ]
    }
   ],
   "source": [
    "%%time\n",
    "train_neigb = find_neighbors(structures.set_index('molecule_name'), train.molecule_name.unique(), radius)"
   ]
  },
  {
   "cell_type": "code",
   "execution_count": 331,
   "metadata": {},
   "outputs": [
    {
     "data": {
      "text/html": [
       "<div>\n",
       "<style scoped>\n",
       "    .dataframe tbody tr th:only-of-type {\n",
       "        vertical-align: middle;\n",
       "    }\n",
       "\n",
       "    .dataframe tbody tr th {\n",
       "        vertical-align: top;\n",
       "    }\n",
       "\n",
       "    .dataframe thead th {\n",
       "        text-align: right;\n",
       "    }\n",
       "</style>\n",
       "<table border=\"1\" class=\"dataframe\">\n",
       "  <thead>\n",
       "    <tr style=\"text-align: right;\">\n",
       "      <th></th>\n",
       "      <th>molecule_name</th>\n",
       "      <th>atom_index</th>\n",
       "      <th>atom</th>\n",
       "      <th>all_atoms</th>\n",
       "      <th>number_neihgbors</th>\n",
       "      <th>neighbors</th>\n",
       "      <th>L2dist</th>\n",
       "    </tr>\n",
       "  </thead>\n",
       "  <tbody>\n",
       "    <tr>\n",
       "      <th>0</th>\n",
       "      <td>dsgdb9nsd_000001</td>\n",
       "      <td>0</td>\n",
       "      <td>C</td>\n",
       "      <td>5</td>\n",
       "      <td>4</td>\n",
       "      <td>[H, H, H, H]</td>\n",
       "      <td>[1.0919463791331034, 1.0919475411120265, 1.091...</td>\n",
       "    </tr>\n",
       "    <tr>\n",
       "      <th>1</th>\n",
       "      <td>dsgdb9nsd_000001</td>\n",
       "      <td>1</td>\n",
       "      <td>H</td>\n",
       "      <td>5</td>\n",
       "      <td>4</td>\n",
       "      <td>[C, H, H, H]</td>\n",
       "      <td>[1.0919530596119005, 1.7831197560388008, 1.783...</td>\n",
       "    </tr>\n",
       "    <tr>\n",
       "      <th>2</th>\n",
       "      <td>dsgdb9nsd_000001</td>\n",
       "      <td>2</td>\n",
       "      <td>H</td>\n",
       "      <td>5</td>\n",
       "      <td>4</td>\n",
       "      <td>[C, H, H, H]</td>\n",
       "      <td>[1.0919516185813627, 1.7831197560388008, 1.783...</td>\n",
       "    </tr>\n",
       "    <tr>\n",
       "      <th>3</th>\n",
       "      <td>dsgdb9nsd_000001</td>\n",
       "      <td>3</td>\n",
       "      <td>H</td>\n",
       "      <td>5</td>\n",
       "      <td>4</td>\n",
       "      <td>[C, H, H, H]</td>\n",
       "      <td>[1.0919463791331034, 1.783147496403011, 1.7831...</td>\n",
       "    </tr>\n",
       "    <tr>\n",
       "      <th>4</th>\n",
       "      <td>dsgdb9nsd_000001</td>\n",
       "      <td>4</td>\n",
       "      <td>H</td>\n",
       "      <td>5</td>\n",
       "      <td>4</td>\n",
       "      <td>[C, H, H, H]</td>\n",
       "      <td>[1.0919475411120265, 1.7831478722297796, 1.783...</td>\n",
       "    </tr>\n",
       "  </tbody>\n",
       "</table>\n",
       "</div>"
      ],
      "text/plain": [
       "      molecule_name  atom_index atom  all_atoms  number_neihgbors  \\\n",
       "0  dsgdb9nsd_000001           0    C          5                 4   \n",
       "1  dsgdb9nsd_000001           1    H          5                 4   \n",
       "2  dsgdb9nsd_000001           2    H          5                 4   \n",
       "3  dsgdb9nsd_000001           3    H          5                 4   \n",
       "4  dsgdb9nsd_000001           4    H          5                 4   \n",
       "\n",
       "      neighbors                                             L2dist  \n",
       "0  [H, H, H, H]  [1.0919463791331034, 1.0919475411120265, 1.091...  \n",
       "1  [C, H, H, H]  [1.0919530596119005, 1.7831197560388008, 1.783...  \n",
       "2  [C, H, H, H]  [1.0919516185813627, 1.7831197560388008, 1.783...  \n",
       "3  [C, H, H, H]  [1.0919463791331034, 1.783147496403011, 1.7831...  \n",
       "4  [C, H, H, H]  [1.0919475411120265, 1.7831478722297796, 1.783...  "
      ]
     },
     "execution_count": 331,
     "metadata": {},
     "output_type": "execute_result"
    }
   ],
   "source": [
    "train_neigb.head()"
   ]
  },
  {
   "cell_type": "code",
   "execution_count": 328,
   "metadata": {},
   "outputs": [
    {
     "data": {
      "text/plain": [
       "(1533537, 7)"
      ]
     },
     "execution_count": 328,
     "metadata": {},
     "output_type": "execute_result"
    }
   ],
   "source": [
    "train_neigb.shape"
   ]
  },
  {
   "cell_type": "code",
   "execution_count": 301,
   "metadata": {},
   "outputs": [
    {
     "data": {
      "text/plain": [
       "array(['dsgdb9nsd_000826', 'dsgdb9nsd_000828', 'dsgdb9nsd_000830', ...,\n",
       "       'dsgdb9nsd_133805', 'dsgdb9nsd_133808', 'dsgdb9nsd_133810'],\n",
       "      dtype=object)"
      ]
     },
     "execution_count": 301,
     "metadata": {},
     "output_type": "execute_result"
    }
   ],
   "source": [
    "train_neigb[train_neigb['atom']=='F']['molecule_name'].unique()"
   ]
  },
  {
   "cell_type": "code",
   "execution_count": 317,
   "metadata": {},
   "outputs": [
    {
     "data": {
      "text/html": [
       "<div>\n",
       "<style scoped>\n",
       "    .dataframe tbody tr th:only-of-type {\n",
       "        vertical-align: middle;\n",
       "    }\n",
       "\n",
       "    .dataframe tbody tr th {\n",
       "        vertical-align: top;\n",
       "    }\n",
       "\n",
       "    .dataframe thead th {\n",
       "        text-align: right;\n",
       "    }\n",
       "</style>\n",
       "<table border=\"1\" class=\"dataframe\">\n",
       "  <thead>\n",
       "    <tr style=\"text-align: right;\">\n",
       "      <th></th>\n",
       "      <th>molecule_name</th>\n",
       "      <th>atom_index</th>\n",
       "      <th>atom</th>\n",
       "      <th>all_atoms</th>\n",
       "      <th>number_neihgbors</th>\n",
       "      <th>neighbors</th>\n",
       "      <th>L2dist</th>\n",
       "    </tr>\n",
       "  </thead>\n",
       "  <tbody>\n",
       "    <tr>\n",
       "      <th>5942</th>\n",
       "      <td>dsgdb9nsd_000828</td>\n",
       "      <td>0</td>\n",
       "      <td>F</td>\n",
       "      <td>7</td>\n",
       "      <td>1</td>\n",
       "      <td>[C]</td>\n",
       "      <td>[1.3227281340979686]</td>\n",
       "    </tr>\n",
       "    <tr>\n",
       "      <th>5943</th>\n",
       "      <td>dsgdb9nsd_000828</td>\n",
       "      <td>1</td>\n",
       "      <td>C</td>\n",
       "      <td>7</td>\n",
       "      <td>4</td>\n",
       "      <td>[F, F, F, C]</td>\n",
       "      <td>[1.3227281340979686, 1.3394346231006724, 1.339...</td>\n",
       "    </tr>\n",
       "    <tr>\n",
       "      <th>5944</th>\n",
       "      <td>dsgdb9nsd_000828</td>\n",
       "      <td>2</td>\n",
       "      <td>F</td>\n",
       "      <td>7</td>\n",
       "      <td>1</td>\n",
       "      <td>[C]</td>\n",
       "      <td>[1.3394364965282812]</td>\n",
       "    </tr>\n",
       "    <tr>\n",
       "      <th>5945</th>\n",
       "      <td>dsgdb9nsd_000828</td>\n",
       "      <td>3</td>\n",
       "      <td>F</td>\n",
       "      <td>7</td>\n",
       "      <td>1</td>\n",
       "      <td>[C]</td>\n",
       "      <td>[1.3394346231006724]</td>\n",
       "    </tr>\n",
       "    <tr>\n",
       "      <th>5946</th>\n",
       "      <td>dsgdb9nsd_000828</td>\n",
       "      <td>4</td>\n",
       "      <td>C</td>\n",
       "      <td>7</td>\n",
       "      <td>3</td>\n",
       "      <td>[H, O, C]</td>\n",
       "      <td>[1.1085379205303283, 1.1949593807724774, 1.542...</td>\n",
       "    </tr>\n",
       "    <tr>\n",
       "      <th>5947</th>\n",
       "      <td>dsgdb9nsd_000828</td>\n",
       "      <td>5</td>\n",
       "      <td>O</td>\n",
       "      <td>7</td>\n",
       "      <td>1</td>\n",
       "      <td>[C]</td>\n",
       "      <td>[1.1949593807724774]</td>\n",
       "    </tr>\n",
       "    <tr>\n",
       "      <th>5948</th>\n",
       "      <td>dsgdb9nsd_000828</td>\n",
       "      <td>6</td>\n",
       "      <td>H</td>\n",
       "      <td>7</td>\n",
       "      <td>1</td>\n",
       "      <td>[C]</td>\n",
       "      <td>[1.1085379205303283]</td>\n",
       "    </tr>\n",
       "  </tbody>\n",
       "</table>\n",
       "</div>"
      ],
      "text/plain": [
       "         molecule_name  atom_index atom  all_atoms  number_neihgbors  \\\n",
       "5942  dsgdb9nsd_000828           0    F          7                 1   \n",
       "5943  dsgdb9nsd_000828           1    C          7                 4   \n",
       "5944  dsgdb9nsd_000828           2    F          7                 1   \n",
       "5945  dsgdb9nsd_000828           3    F          7                 1   \n",
       "5946  dsgdb9nsd_000828           4    C          7                 3   \n",
       "5947  dsgdb9nsd_000828           5    O          7                 1   \n",
       "5948  dsgdb9nsd_000828           6    H          7                 1   \n",
       "\n",
       "         neighbors                                             L2dist  \n",
       "5942           [C]                               [1.3227281340979686]  \n",
       "5943  [F, F, F, C]  [1.3227281340979686, 1.3394346231006724, 1.339...  \n",
       "5944           [C]                               [1.3394364965282812]  \n",
       "5945           [C]                               [1.3394346231006724]  \n",
       "5946     [H, O, C]  [1.1085379205303283, 1.1949593807724774, 1.542...  \n",
       "5947           [C]                               [1.1949593807724774]  \n",
       "5948           [C]                               [1.1085379205303283]  "
      ]
     },
     "execution_count": 317,
     "metadata": {},
     "output_type": "execute_result"
    }
   ],
   "source": [
    "qq = train_neigb[train_neigb['molecule_name']=='dsgdb9nsd_000828'].copy()\n",
    "qq"
   ]
  },
  {
   "cell_type": "code",
   "execution_count": 318,
   "metadata": {},
   "outputs": [
    {
     "data": {
      "text/html": [
       "<div>\n",
       "<style scoped>\n",
       "    .dataframe tbody tr th:only-of-type {\n",
       "        vertical-align: middle;\n",
       "    }\n",
       "\n",
       "    .dataframe tbody tr th {\n",
       "        vertical-align: top;\n",
       "    }\n",
       "\n",
       "    .dataframe thead th {\n",
       "        text-align: right;\n",
       "    }\n",
       "</style>\n",
       "<table border=\"1\" class=\"dataframe\">\n",
       "  <thead>\n",
       "    <tr style=\"text-align: right;\">\n",
       "      <th></th>\n",
       "      <th>molecule_name</th>\n",
       "      <th>atom_index</th>\n",
       "      <th>atom</th>\n",
       "      <th>x</th>\n",
       "      <th>y</th>\n",
       "      <th>z</th>\n",
       "      <th>F1</th>\n",
       "      <th>F2</th>\n",
       "      <th>F3</th>\n",
       "    </tr>\n",
       "  </thead>\n",
       "  <tbody>\n",
       "    <tr>\n",
       "      <th>7</th>\n",
       "      <td>dsgdb9nsd_000828</td>\n",
       "      <td>0</td>\n",
       "      <td>F</td>\n",
       "      <td>0.036904</td>\n",
       "      <td>0.054835</td>\n",
       "      <td>-0.061209</td>\n",
       "      <td>2.170204</td>\n",
       "      <td>2.170205</td>\n",
       "      <td>1000.000000</td>\n",
       "    </tr>\n",
       "    <tr>\n",
       "      <th>8</th>\n",
       "      <td>dsgdb9nsd_000828</td>\n",
       "      <td>1</td>\n",
       "      <td>C</td>\n",
       "      <td>-0.017329</td>\n",
       "      <td>1.374488</td>\n",
       "      <td>0.010798</td>\n",
       "      <td>1.322728</td>\n",
       "      <td>1.339435</td>\n",
       "      <td>1.339436</td>\n",
       "    </tr>\n",
       "    <tr>\n",
       "      <th>9</th>\n",
       "      <td>dsgdb9nsd_000828</td>\n",
       "      <td>2</td>\n",
       "      <td>F</td>\n",
       "      <td>1.227817</td>\n",
       "      <td>1.868042</td>\n",
       "      <td>0.000406</td>\n",
       "      <td>2.166995</td>\n",
       "      <td>2.170204</td>\n",
       "      <td>1000.000000</td>\n",
       "    </tr>\n",
       "    <tr>\n",
       "      <th>10</th>\n",
       "      <td>dsgdb9nsd_000828</td>\n",
       "      <td>3</td>\n",
       "      <td>F</td>\n",
       "      <td>-0.659056</td>\n",
       "      <td>1.848638</td>\n",
       "      <td>-1.065052</td>\n",
       "      <td>2.166995</td>\n",
       "      <td>2.170205</td>\n",
       "      <td>1000.000000</td>\n",
       "    </tr>\n",
       "    <tr>\n",
       "      <th>11</th>\n",
       "      <td>dsgdb9nsd_000828</td>\n",
       "      <td>4</td>\n",
       "      <td>C</td>\n",
       "      <td>-0.741532</td>\n",
       "      <td>1.857302</td>\n",
       "      <td>1.284527</td>\n",
       "      <td>2.351043</td>\n",
       "      <td>2.351046</td>\n",
       "      <td>2.380305</td>\n",
       "    </tr>\n",
       "    <tr>\n",
       "      <th>12</th>\n",
       "      <td>dsgdb9nsd_000828</td>\n",
       "      <td>5</td>\n",
       "      <td>O</td>\n",
       "      <td>-1.192351</td>\n",
       "      <td>1.105810</td>\n",
       "      <td>2.096901</td>\n",
       "      <td>2.696860</td>\n",
       "      <td>1000.000000</td>\n",
       "      <td>1000.000000</td>\n",
       "    </tr>\n",
       "    <tr>\n",
       "      <th>13</th>\n",
       "      <td>dsgdb9nsd_000828</td>\n",
       "      <td>6</td>\n",
       "      <td>H</td>\n",
       "      <td>-0.794344</td>\n",
       "      <td>2.962136</td>\n",
       "      <td>1.358063</td>\n",
       "      <td>2.670096</td>\n",
       "      <td>2.670144</td>\n",
       "      <td>1000.000000</td>\n",
       "    </tr>\n",
       "  </tbody>\n",
       "</table>\n",
       "</div>"
      ],
      "text/plain": [
       "       molecule_name atom_index atom         x         y         z        F1  \\\n",
       "7   dsgdb9nsd_000828          0    F  0.036904  0.054835 -0.061209  2.170204   \n",
       "8   dsgdb9nsd_000828          1    C -0.017329  1.374488  0.010798  1.322728   \n",
       "9   dsgdb9nsd_000828          2    F  1.227817  1.868042  0.000406  2.166995   \n",
       "10  dsgdb9nsd_000828          3    F -0.659056  1.848638 -1.065052  2.166995   \n",
       "11  dsgdb9nsd_000828          4    C -0.741532  1.857302  1.284527  2.351043   \n",
       "12  dsgdb9nsd_000828          5    O -1.192351  1.105810  2.096901  2.696860   \n",
       "13  dsgdb9nsd_000828          6    H -0.794344  2.962136  1.358063  2.670096   \n",
       "\n",
       "             F2           F3  \n",
       "7      2.170205  1000.000000  \n",
       "8      1.339435     1.339436  \n",
       "9      2.170204  1000.000000  \n",
       "10     2.170205  1000.000000  \n",
       "11     2.351046     2.380305  \n",
       "12  1000.000000  1000.000000  \n",
       "13     2.670144  1000.000000  "
      ]
     },
     "execution_count": 318,
     "metadata": {},
     "output_type": "execute_result"
    }
   ],
   "source": [
    "ww = struct_dist_F[struct_dist_F['molecule_name']=='dsgdb9nsd_000828'].loc[:, :\"F3\"].copy()\n",
    "ww"
   ]
  },
  {
   "cell_type": "code",
   "execution_count": 326,
   "metadata": {},
   "outputs": [
    {
     "data": {
      "text/html": [
       "<div>\n",
       "<style scoped>\n",
       "    .dataframe tbody tr th:only-of-type {\n",
       "        vertical-align: middle;\n",
       "    }\n",
       "\n",
       "    .dataframe tbody tr th {\n",
       "        vertical-align: top;\n",
       "    }\n",
       "\n",
       "    .dataframe thead th {\n",
       "        text-align: right;\n",
       "    }\n",
       "</style>\n",
       "<table border=\"1\" class=\"dataframe\">\n",
       "  <thead>\n",
       "    <tr style=\"text-align: right;\">\n",
       "      <th></th>\n",
       "      <th>molecule_name</th>\n",
       "      <th>atom_index</th>\n",
       "      <th>atom</th>\n",
       "      <th>x</th>\n",
       "      <th>y</th>\n",
       "      <th>z</th>\n",
       "      <th>F1</th>\n",
       "      <th>F2</th>\n",
       "      <th>F3</th>\n",
       "      <th>F4</th>\n",
       "      <th>F5</th>\n",
       "      <th>F6</th>\n",
       "    </tr>\n",
       "  </thead>\n",
       "  <tbody>\n",
       "    <tr>\n",
       "      <th>7</th>\n",
       "      <td>dsgdb9nsd_000828</td>\n",
       "      <td>0</td>\n",
       "      <td>F</td>\n",
       "      <td>0.036904</td>\n",
       "      <td>0.054835</td>\n",
       "      <td>-0.061209</td>\n",
       "      <td>2.170204</td>\n",
       "      <td>2.170205</td>\n",
       "      <td>1000.000000</td>\n",
       "      <td>1000</td>\n",
       "      <td>1000</td>\n",
       "      <td>1000</td>\n",
       "    </tr>\n",
       "    <tr>\n",
       "      <th>8</th>\n",
       "      <td>dsgdb9nsd_000828</td>\n",
       "      <td>1</td>\n",
       "      <td>C</td>\n",
       "      <td>-0.017329</td>\n",
       "      <td>1.374488</td>\n",
       "      <td>0.010798</td>\n",
       "      <td>1.322728</td>\n",
       "      <td>1.339435</td>\n",
       "      <td>1.339436</td>\n",
       "      <td>1000</td>\n",
       "      <td>1000</td>\n",
       "      <td>1000</td>\n",
       "    </tr>\n",
       "    <tr>\n",
       "      <th>9</th>\n",
       "      <td>dsgdb9nsd_000828</td>\n",
       "      <td>2</td>\n",
       "      <td>F</td>\n",
       "      <td>1.227817</td>\n",
       "      <td>1.868042</td>\n",
       "      <td>0.000406</td>\n",
       "      <td>2.166995</td>\n",
       "      <td>2.170204</td>\n",
       "      <td>1000.000000</td>\n",
       "      <td>1000</td>\n",
       "      <td>1000</td>\n",
       "      <td>1000</td>\n",
       "    </tr>\n",
       "    <tr>\n",
       "      <th>10</th>\n",
       "      <td>dsgdb9nsd_000828</td>\n",
       "      <td>3</td>\n",
       "      <td>F</td>\n",
       "      <td>-0.659056</td>\n",
       "      <td>1.848638</td>\n",
       "      <td>-1.065052</td>\n",
       "      <td>2.166995</td>\n",
       "      <td>2.170205</td>\n",
       "      <td>1000.000000</td>\n",
       "      <td>1000</td>\n",
       "      <td>1000</td>\n",
       "      <td>1000</td>\n",
       "    </tr>\n",
       "    <tr>\n",
       "      <th>11</th>\n",
       "      <td>dsgdb9nsd_000828</td>\n",
       "      <td>4</td>\n",
       "      <td>C</td>\n",
       "      <td>-0.741532</td>\n",
       "      <td>1.857302</td>\n",
       "      <td>1.284527</td>\n",
       "      <td>2.351043</td>\n",
       "      <td>2.351046</td>\n",
       "      <td>2.380305</td>\n",
       "      <td>1000</td>\n",
       "      <td>1000</td>\n",
       "      <td>1000</td>\n",
       "    </tr>\n",
       "    <tr>\n",
       "      <th>12</th>\n",
       "      <td>dsgdb9nsd_000828</td>\n",
       "      <td>5</td>\n",
       "      <td>O</td>\n",
       "      <td>-1.192351</td>\n",
       "      <td>1.105810</td>\n",
       "      <td>2.096901</td>\n",
       "      <td>2.696860</td>\n",
       "      <td>1000.000000</td>\n",
       "      <td>1000.000000</td>\n",
       "      <td>1000</td>\n",
       "      <td>1000</td>\n",
       "      <td>1000</td>\n",
       "    </tr>\n",
       "    <tr>\n",
       "      <th>13</th>\n",
       "      <td>dsgdb9nsd_000828</td>\n",
       "      <td>6</td>\n",
       "      <td>H</td>\n",
       "      <td>-0.794344</td>\n",
       "      <td>2.962136</td>\n",
       "      <td>1.358063</td>\n",
       "      <td>2.670096</td>\n",
       "      <td>2.670144</td>\n",
       "      <td>1000.000000</td>\n",
       "      <td>1000</td>\n",
       "      <td>1000</td>\n",
       "      <td>1000</td>\n",
       "    </tr>\n",
       "  </tbody>\n",
       "</table>\n",
       "</div>"
      ],
      "text/plain": [
       "       molecule_name atom_index atom         x         y         z        F1  \\\n",
       "7   dsgdb9nsd_000828          0    F  0.036904  0.054835 -0.061209  2.170204   \n",
       "8   dsgdb9nsd_000828          1    C -0.017329  1.374488  0.010798  1.322728   \n",
       "9   dsgdb9nsd_000828          2    F  1.227817  1.868042  0.000406  2.166995   \n",
       "10  dsgdb9nsd_000828          3    F -0.659056  1.848638 -1.065052  2.166995   \n",
       "11  dsgdb9nsd_000828          4    C -0.741532  1.857302  1.284527  2.351043   \n",
       "12  dsgdb9nsd_000828          5    O -1.192351  1.105810  2.096901  2.696860   \n",
       "13  dsgdb9nsd_000828          6    H -0.794344  2.962136  1.358063  2.670096   \n",
       "\n",
       "             F2           F3    F4    F5    F6  \n",
       "7      2.170205  1000.000000  1000  1000  1000  \n",
       "8      1.339435     1.339436  1000  1000  1000  \n",
       "9      2.170204  1000.000000  1000  1000  1000  \n",
       "10     2.170205  1000.000000  1000  1000  1000  \n",
       "11     2.351046     2.380305  1000  1000  1000  \n",
       "12  1000.000000  1000.000000  1000  1000  1000  \n",
       "13     2.670144  1000.000000  1000  1000  1000  "
      ]
     },
     "execution_count": 326,
     "metadata": {},
     "output_type": "execute_result"
    }
   ],
   "source": [
    "zz=struct_dist_F[struct_dist_F['molecule_name']=='dsgdb9nsd_000828'].copy()\n",
    "zz"
   ]
  },
  {
   "cell_type": "markdown",
   "metadata": {},
   "source": [
    "## Checking the results"
   ]
  },
  {
   "cell_type": "code",
   "execution_count": 336,
   "metadata": {},
   "outputs": [
    {
     "name": "stdout",
     "output_type": "stream",
     "text": [
      "(1533537, 7) (4658147, 6)\n"
     ]
    }
   ],
   "source": [
    "print(train_neigb.shape, train.shape)"
   ]
  },
  {
   "cell_type": "code",
   "execution_count": 340,
   "metadata": {},
   "outputs": [],
   "source": [
    "# Отличается число строк!"
   ]
  },
  {
   "cell_type": "code",
   "execution_count": 338,
   "metadata": {},
   "outputs": [
    {
     "data": {
      "text/plain": [
       "85003"
      ]
     },
     "execution_count": 338,
     "metadata": {},
     "output_type": "execute_result"
    }
   ],
   "source": [
    "train_neigb.molecule_name.nunique()"
   ]
  },
  {
   "cell_type": "code",
   "execution_count": 339,
   "metadata": {},
   "outputs": [
    {
     "data": {
      "text/plain": [
       "85003"
      ]
     },
     "execution_count": 339,
     "metadata": {},
     "output_type": "execute_result"
    }
   ],
   "source": [
    "train.molecule_name.nunique()"
   ]
  },
  {
   "cell_type": "code",
   "execution_count": null,
   "metadata": {},
   "outputs": [],
   "source": [
    "# А число молекул одинаковое.\n",
    "Причина различий - train_neigb построен на основании таблицы structures, \n",
    "           в которую включены атомы F -  а  train атомов F нет "
   ]
  },
  {
   "cell_type": "markdown",
   "metadata": {},
   "source": [
    "### To prepare final features"
   ]
  },
  {
   "cell_type": "code",
   "execution_count": 9,
   "metadata": {},
   "outputs": [],
   "source": [
    "#train= pd.read_csv('champs-scalar-coupling/train.csv')\n",
    "#test= pd.read_csv('champs-scalar-coupling/test.csv')"
   ]
  },
  {
   "cell_type": "code",
   "execution_count": 10,
   "metadata": {
    "_kg_hide-output": true
   },
   "outputs": [
    {
     "name": "stdout",
     "output_type": "stream",
     "text": [
      "CPU times: user 3 µs, sys: 0 ns, total: 3 µs\n",
      "Wall time: 10 µs\n"
     ]
    }
   ],
   "source": [
    "%%time\n",
    "#train_neigb = find_neighbors(structures.set_index('molecule_name'), train.molecule_name.unique(), 1.8)\n",
    "#test_neigb = find_neighbors(structures.set_index('molecule_name'), test.molecule_name.unique(), 1.8)"
   ]
  },
  {
   "cell_type": "markdown",
   "metadata": {},
   "source": [
    "# Write outputs\n",
    "\n"
   ]
  },
  {
   "cell_type": "code",
   "execution_count": 332,
   "metadata": {},
   "outputs": [
    {
     "name": "stdout",
     "output_type": "stream",
     "text": [
      "CPU times: user 3min 45s, sys: 4.9 s, total: 3min 50s\n",
      "Wall time: 3min 57s\n"
     ]
    }
   ],
   "source": [
    "%%time\n",
    "train_neigb.to_csv('train_neigb_'+str(radius)+'.csv')\n",
    "#test_neigb.to_csv('test_neigb'+str(radius)+'.csv')"
   ]
  },
  {
   "cell_type": "code",
   "execution_count": 231,
   "metadata": {},
   "outputs": [],
   "source": [
    "struct_dist.to_csv('struct_dist.csv')"
   ]
  },
  {
   "cell_type": "code",
   "execution_count": null,
   "metadata": {},
   "outputs": [],
   "source": []
  },
  {
   "cell_type": "code",
   "execution_count": null,
   "metadata": {},
   "outputs": [],
   "source": [
    "def add_col(df,**atom_dict):\n",
    "    \"\"\"Add new columns with the distances to heteroatoms.\n",
    "       F1 corresponds to the nearest atom F.\n",
    "       If F is absent in the molecule, we set large distance.\"\"\"\n",
    "    \n",
    "    for atom, value in atom_dict.items():\n",
    "        for i in range(1, value+1):\n",
    "            df[str(atom)+str(i)]=1000\n",
    "    return df\n",
    "\n",
    "def find_neigb_atom(structures, molecules, atom_to_find, radius):\n",
    "    \"\"\"Radius for finding neighbors\"\"\"\n",
    "    \n",
    "    atom_dict = {'F': 6, 'N': 7, \"O\": 5}\n",
    "    df_0 = add_col(pd.DataFrame(data=None, columns=structures.columns),**atom_dict)\n",
    "    #df_0 = add_col(structures.iloc[:2].copy(),**atom_dict)\n",
    "    \n",
    "    for imol,name in tqdm(list(enumerate(molecules))):\n",
    "        \n",
    "        molecule = structures.set_index('molecule_name').loc[name ]\n",
    "        atoms    = molecule.atom.values\n",
    "        atoms_idx= molecule.atom_index.values\n",
    "        \n",
    "        #Set new columns and rewrite some values\n",
    "        res= add_col(molecule.reset_index(),**atom_dict)\n",
    "        \n",
    "        coords   = molecule[['x', 'y', 'z']].values\n",
    "        kdt = KDTree(coords)\n",
    "        \n",
    "        for a0 in atoms_idx:\n",
    "            \n",
    "            distances, inds = kdt.query(coords[a0], len(atoms))\n",
    "            \n",
    "            distances = distances[1:sum(distances<radius)]; # remove a0 from list\n",
    "            print('===1===')\n",
    "            print(distances)\n",
    "            inds = inds[1:sum(distances<radius)+1]\n",
    "            print('===2===')\n",
    "            print(atoms[inds])\n",
    "            dist_atom = distances[atoms[inds] == atom_to_find]\n",
    "            print('===3===')\n",
    "            print(dist_atom)\n",
    "            ind_atom = inds[atoms[inds] == atom_to_find]\n",
    "            print('===4===')\n",
    "            print(ind_atom)\n",
    "           \n",
    "            for i, d in enumerate(dist_atom,1): # print(i,  d) -> 0 (0, 3.381815264756334), 1 (2, 3.382439208351072\n",
    "                #print(str(atom_to_find)+str(i))\n",
    "                res.loc[a0, str(atom_to_find)+str(i)]=d \n",
    "                print('===5===')\n",
    "                print(res)\n",
    "                #print(molecule)\n",
    "        print('===6===')\n",
    "        print(res)\n",
    "        print(res.shape)\n",
    "        df_nieghb =pd.concat([df_0, res], axis=0)\n",
    "        print('====FINAL====')\n",
    "        print(df_nieghb.shape)\n",
    "        print(df_nieghb)\n",
    "    \n",
    "    return df_nieghb"
   ]
  }
 ],
 "metadata": {
  "kernelspec": {
   "display_name": "Python 3",
   "language": "python",
   "name": "python3"
  },
  "language_info": {
   "codemirror_mode": {
    "name": "ipython",
    "version": 3
   },
   "file_extension": ".py",
   "mimetype": "text/x-python",
   "name": "python",
   "nbconvert_exporter": "python",
   "pygments_lexer": "ipython3",
   "version": "3.6.8"
  }
 },
 "nbformat": 4,
 "nbformat_minor": 1
}
