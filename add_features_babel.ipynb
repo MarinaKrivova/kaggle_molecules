{
 "cells": [
  {
   "cell_type": "code",
   "execution_count": 1,
   "metadata": {},
   "outputs": [],
   "source": [
    "import sys\n",
    "import numpy as np\n",
    "import pandas as pd\n",
    "import os\n",
    "\n",
    "# import matplotlib.pyplot as plt\n",
    "# %matplotlib inline\n",
    "from tqdm import tqdm_notebook\n",
    "pd.options.display.precision = 15\n",
    "\n",
    "import time\n",
    "import datetime\n",
    "import openbabel\n",
    "import gc\n",
    "#import seaborn as sns\n",
    "import warnings\n",
    "warnings.filterwarnings(\"ignore\")\n",
    "\n",
    "from IPython.display import HTML\n",
    "import json\n",
    "# import altair as alt\n",
    "# alt.renderers.enable('notebook')\n",
    "\n",
    "import networkx as nx\n",
    "import matplotlib.pyplot as plt\n",
    "%matplotlib inline\n",
    "\n",
    "os.environ[\"TZ\"]=\"Europe/Paris\"\n",
    "time.tzset()"
   ]
  },
  {
   "cell_type": "markdown",
   "metadata": {},
   "source": [
    "## Part 1"
   ]
  },
  {
   "cell_type": "code",
   "execution_count": 3,
   "metadata": {},
   "outputs": [],
   "source": [
    "train = pd.read_csv('champs-scalar-coupling/train.csv')\n",
    "test = pd.read_csv('champs-scalar-coupling/test.csv')"
   ]
  },
  {
   "cell_type": "code",
   "execution_count": 5,
   "metadata": {},
   "outputs": [
    {
     "name": "stdout",
     "output_type": "stream",
     "text": [
      "<class 'pandas.core.frame.DataFrame'>\n",
      "RangeIndex: 4658147 entries, 0 to 4658146\n",
      "Data columns (total 6 columns):\n",
      "id                          int64\n",
      "molecule_name               object\n",
      "atom_index_0                int64\n",
      "atom_index_1                int64\n",
      "type                        object\n",
      "scalar_coupling_constant    float64\n",
      "dtypes: float64(1), int64(3), object(2)\n",
      "memory usage: 737.4 MB\n"
     ]
    }
   ],
   "source": [
    "train.info(memory_usage='deep')"
   ]
  },
  {
   "cell_type": "code",
   "execution_count": 6,
   "metadata": {},
   "outputs": [
    {
     "name": "stdout",
     "output_type": "stream",
     "text": [
      "<class 'pandas.core.frame.DataFrame'>\n",
      "RangeIndex: 2505542 entries, 0 to 2505541\n",
      "Data columns (total 5 columns):\n",
      "id               int64\n",
      "molecule_name    object\n",
      "atom_index_0     int64\n",
      "atom_index_1     int64\n",
      "type             object\n",
      "dtypes: int64(3), object(2)\n",
      "memory usage: 377.5 MB\n"
     ]
    }
   ],
   "source": [
    "test.info(memory_usage='deep')"
   ]
  },
  {
   "cell_type": "code",
   "execution_count": 7,
   "metadata": {},
   "outputs": [
    {
     "name": "stdout",
     "output_type": "stream",
     "text": [
      "<class 'pandas.core.frame.DataFrame'>\n",
      "RangeIndex: 2358657 entries, 0 to 2358656\n",
      "Data columns (total 6 columns):\n",
      "molecule_name    object\n",
      "atom_index       int64\n",
      "atom             object\n",
      "x                float64\n",
      "y                float64\n",
      "z                float64\n",
      "dtypes: float64(3), int64(1), object(2)\n",
      "memory usage: 384.6 MB\n"
     ]
    }
   ],
   "source": [
    "structures = pd.read_csv('champs-scalar-coupling/structures.csv')\n",
    "structures.info(memory_usage='deep')"
   ]
  },
  {
   "cell_type": "code",
   "execution_count": 8,
   "metadata": {},
   "outputs": [],
   "source": [
    "def map_atom_info(df, atom_idx):\n",
    "    df = pd.merge(df, structures, how = 'left',\n",
    "                  left_on  = ['molecule_name', f'atom_index_{atom_idx}'],\n",
    "                  right_on = ['molecule_name',  'atom_index'])\n",
    "    \n",
    "    df = df.drop('atom_index', axis=1)\n",
    "    df = df.rename(columns={'atom': f'atom_{atom_idx}',\n",
    "                            'x': f'x_{atom_idx}',\n",
    "                            'y': f'y_{atom_idx}',\n",
    "                            'z': f'z_{atom_idx}'})\n",
    "    return df\n",
    "\n",
    "train = map_atom_info(train, 0)\n",
    "train = map_atom_info(train, 1)\n",
    "\n",
    "test = map_atom_info(test, 0)\n",
    "test = map_atom_info(test, 1)\n",
    "\n",
    "del structures\n",
    "#atom_count=structures.groupby(['molecule_name','atom']).size().unstack(fill_value=0)\n",
    "#train=pd.merge(train,atom_count, how = 'left', left_on  = 'molecule_name', right_on = 'molecule_name')\n",
    "#test=pd.merge(test,atom_count, how = 'left', left_on  = 'molecule_name', right_on = 'molecule_name')"
   ]
  },
  {
   "cell_type": "code",
   "execution_count": 9,
   "metadata": {},
   "outputs": [
    {
     "name": "stdout",
     "output_type": "stream",
     "text": [
      "<class 'pandas.core.frame.DataFrame'>\n",
      "Int64Index: 4658147 entries, 0 to 4658146\n",
      "Data columns (total 14 columns):\n",
      "id                          int64\n",
      "molecule_name               object\n",
      "atom_index_0                int64\n",
      "atom_index_1                int64\n",
      "type                        object\n",
      "scalar_coupling_constant    float64\n",
      "atom_0                      object\n",
      "x_0                         float64\n",
      "y_0                         float64\n",
      "z_0                         float64\n",
      "atom_1                      object\n",
      "x_1                         float64\n",
      "y_1                         float64\n",
      "z_1                         float64\n",
      "dtypes: float64(7), int64(3), object(4)\n",
      "memory usage: 1.5 GB\n"
     ]
    }
   ],
   "source": [
    "train.info(memory_usage='deep')"
   ]
  },
  {
   "cell_type": "code",
   "execution_count": 10,
   "metadata": {},
   "outputs": [
    {
     "name": "stdout",
     "output_type": "stream",
     "text": [
      "CPU times: user 5.53 s, sys: 1.71 s, total: 7.24 s\n",
      "Wall time: 7.99 s\n"
     ]
    }
   ],
   "source": [
    "%%time\n",
    "train['bonds']=train['type'].str[0].astype(int)\n",
    "test['bonds']=test['type'].str[0].astype(int)\n",
    "\n",
    "train_p_0 = train[['x_0', 'y_0', 'z_0']].values\n",
    "train_p_1 = train[['x_1', 'y_1', 'z_1']].values\n",
    "test_p_0 = test[['x_0', 'y_0', 'z_0']].values\n",
    "test_p_1 = test[['x_1', 'y_1', 'z_1']].values\n",
    "\n",
    "train['dist'] = np.linalg.norm(train_p_0 - train_p_1, axis=1)\n",
    "test['dist'] = np.linalg.norm(test_p_0 - test_p_1, axis=1)\n",
    "train['abs_dist']=np.linalg.norm(train_p_0-train_p_1,axis=1,ord=1)\n",
    "test['abs_dist']=np.linalg.norm(test_p_0-test_p_1,axis=1,ord=1)"
   ]
  },
  {
   "cell_type": "code",
   "execution_count": 11,
   "metadata": {},
   "outputs": [],
   "source": [
    "def dist12(name='xy',a='x',b='y'):\n",
    "    train_p_0=train[[a+'_0',b+'_0']].values\n",
    "    train_p_1=train[[a+'_1',b+'_1']].values\n",
    "    test_p_0=test[[a+'_0',b+'_0']].values\n",
    "    test_p_1=test[[a+'_1',b+'_1']].values\n",
    "    \n",
    "    train[name] = np.linalg.norm(train_p_0 - train_p_1, axis=1)\n",
    "    test[name] = np.linalg.norm(test_p_0 - test_p_1, axis=1)\n",
    "    train['abs_'+name]= np.linalg.norm(train_p_0-train_p_1,axis=1,ord=1)\n",
    "    test['abs_'+name]= np.linalg.norm(test_p_0-test_p_1,axis=1,ord=1)"
   ]
  },
  {
   "cell_type": "code",
   "execution_count": 12,
   "metadata": {},
   "outputs": [],
   "source": [
    "dist12('dist_xy','x','y')\n",
    "dist12('dist_xz','x','z')\n",
    "dist12('dist_yz','y','z')"
   ]
  },
  {
   "cell_type": "code",
   "execution_count": 13,
   "metadata": {},
   "outputs": [
    {
     "name": "stdout",
     "output_type": "stream",
     "text": [
      "CPU times: user 8.75 s, sys: 12.9 s, total: 21.7 s\n",
      "Wall time: 28.8 s\n"
     ]
    }
   ],
   "source": [
    "%%time\n",
    "train['dist_to_type_mean'] = train['dist'] / train.groupby('type')['dist'].transform('mean')\n",
    "test['dist_to_type_mean'] = test['dist'] / test.groupby('type')['dist'].transform('mean')\n",
    "\n",
    "train['dist_to_type_std'] = train['dist'] / train.groupby('type')['dist'].transform('std')\n",
    "test['dist_to_type_std'] = test['dist'] / test.groupby('type')['dist'].transform('std')\n",
    "\n",
    "train['dist_to_type_mean_xy'] = train['dist_xy'] / train.groupby('type')['dist_xy'].transform('mean')\n",
    "test['dist_to_type_mean_xy'] = test['dist_xy'] / test.groupby('type')['dist_xy'].transform('mean')\n",
    "\n",
    "train['dist_to_type_mean_xz'] = train['dist_xz'] / train.groupby('type')['dist_xz'].transform('mean')\n",
    "test['dist_to_type_mean_xz'] = test['dist_xz'] / test.groupby('type')['dist_xz'].transform('mean')\n",
    "\n",
    "train['dist_to_type_mean_yz'] = train['dist_yz'] / train.groupby('type')['dist_yz'].transform('mean')\n",
    "test['dist_to_type_mean_yz'] = test['dist_yz'] / test.groupby('type')['dist_yz'].transform('mean')"
   ]
  },
  {
   "cell_type": "code",
   "execution_count": 16,
   "metadata": {},
   "outputs": [
    {
     "name": "stdout",
     "output_type": "stream",
     "text": [
      "CPU times: user 3min 33s, sys: 6.74 s, total: 3min 39s\n",
      "Wall time: 3min 45s\n"
     ]
    }
   ],
   "source": [
    "%%time\n",
    "train.to_csv('train_babel_0.csv')\n",
    "del train"
   ]
  },
  {
   "cell_type": "code",
   "execution_count": 17,
   "metadata": {},
   "outputs": [
    {
     "name": "stdout",
     "output_type": "stream",
     "text": [
      "CPU times: user 1min 48s, sys: 3.57 s, total: 1min 52s\n",
      "Wall time: 1min 54s\n"
     ]
    }
   ],
   "source": [
    "%%time\n",
    "test.to_csv('test_babel_0.csv')\n",
    "del test"
   ]
  },
  {
   "cell_type": "markdown",
   "metadata": {},
   "source": [
    "## Part 2"
   ]
  },
  {
   "cell_type": "code",
   "execution_count": 3,
   "metadata": {},
   "outputs": [],
   "source": [
    "def create_features(df):\n",
    "    #1\n",
    "    df['molecule_couples'] = df.groupby('molecule_name')['id'].transform('count')\n",
    "    df['molecule_dist_mean'] = df.groupby('molecule_name')['dist'].transform('mean')\n",
    "    df['molecule_dist_min'] = df.groupby('molecule_name')['dist'].transform('min')\n",
    "    df['molecule_dist_max'] = df.groupby('molecule_name')['dist'].transform('max')\n",
    "    #2\n",
    "    df['atom_0_couples_count'] = df.groupby(['molecule_name', 'atom_index_0'])['id'].transform('count')\n",
    "    df['atom_1_couples_count'] = df.groupby(['molecule_name', 'atom_index_1'])['id'].transform('count')\n",
    "    df[f'molecule_atom_index_0_x_1_std'] = df.groupby(['molecule_name', 'atom_index_0'])['x_1'].transform('std')\n",
    "    df[f'molecule_atom_index_0_y_1_mean'] = df.groupby(['molecule_name', 'atom_index_0'])['y_1'].transform('mean')\n",
    "    \n",
    "    #3\n",
    "    df[f'molecule_atom_index_0_y_1_mean_diff'] = df[f'molecule_atom_index_0_y_1_mean'] - df['y_1']\n",
    "    df[f'molecule_atom_index_0_y_1_mean_div'] = df[f'molecule_atom_index_0_y_1_mean'] / df['y_1']\n",
    "    df[f'molecule_atom_index_0_y_1_max'] = df.groupby(['molecule_name', 'atom_index_0'])['y_1'].transform('max')\n",
    "    \n",
    "    df[f'molecule_atom_index_0_y_1_max_diff'] = df[f'molecule_atom_index_0_y_1_max'] - df['y_1']\n",
    "    df[f'molecule_atom_index_0_y_1_std'] = df.groupby(['molecule_name', 'atom_index_0'])['y_1'].transform('std')\n",
    "    df[f'molecule_atom_index_0_z_1_std'] = df.groupby(['molecule_name', 'atom_index_0'])['z_1'].transform('std')\n",
    "    df[f'molecule_atom_index_0_dist_mean'] = df.groupby(['molecule_name', 'atom_index_0'])['dist'].transform('mean')\n",
    "    \n",
    "    #4\n",
    "    df[f'molecule_atom_index_0_dist_mean_diff'] = df[f'molecule_atom_index_0_dist_mean'] - df['dist']\n",
    "    df[f'molecule_atom_index_0_dist_mean_div'] = df[f'molecule_atom_index_0_dist_mean'] / df['dist']\n",
    "    df[f'molecule_atom_index_0_dist_max'] = df.groupby(['molecule_name', 'atom_index_0'])['dist'].transform('max')\n",
    "    df[f'molecule_atom_index_0_dist_max_diff'] = df[f'molecule_atom_index_0_dist_max'] - df['dist']\n",
    "    \n",
    "    df[f'molecule_atom_index_0_dist_max_div'] = df[f'molecule_atom_index_0_dist_max'] / df['dist']\n",
    "    df[f'molecule_atom_index_0_dist_min'] = df.groupby(['molecule_name', 'atom_index_0'])['dist'].transform('min')\n",
    "    df[f'molecule_atom_index_0_dist_min_diff'] = df[f'molecule_atom_index_0_dist_min'] - df['dist']\n",
    "    df[f'molecule_atom_index_0_dist_min_div'] = df[f'molecule_atom_index_0_dist_min'] / df['dist']\n",
    "    \n",
    "    #5\n",
    "    df[f'molecule_atom_index_0_dist_std'] = df.groupby(['molecule_name', 'atom_index_0'])['dist'].transform('std')\n",
    "    df[f'molecule_atom_index_0_dist_std_diff'] = df[f'molecule_atom_index_0_dist_std'] - df['dist']\n",
    "    df[f'molecule_atom_index_0_dist_std_div'] = df[f'molecule_atom_index_0_dist_std'] / df['dist']\n",
    "    \n",
    "    df[f'molecule_atom_index_1_dist_mean'] = df.groupby(['molecule_name', 'atom_index_1'])['dist'].transform('mean')\n",
    "    df[f'molecule_atom_index_1_dist_mean_diff'] = df[f'molecule_atom_index_1_dist_mean'] - df['dist']\n",
    "    df[f'molecule_atom_index_1_dist_mean_div'] = df[f'molecule_atom_index_1_dist_mean'] / df['dist']\n",
    "    \n",
    "    #6\n",
    "    df[f'molecule_atom_index_1_dist_max'] = df.groupby(['molecule_name', 'atom_index_1'])['dist'].transform('max')\n",
    "    df[f'molecule_atom_index_1_dist_max_diff'] = df[f'molecule_atom_index_1_dist_max'] - df['dist']\n",
    "    df[f'molecule_atom_index_1_dist_max_div'] = df[f'molecule_atom_index_1_dist_max'] / df['dist']\n",
    "    \n",
    "    df[f'molecule_atom_index_1_dist_min'] = df.groupby(['molecule_name', 'atom_index_1'])['dist'].transform('min')\n",
    "    df[f'molecule_atom_index_1_dist_min_diff'] = df[f'molecule_atom_index_1_dist_min'] - df['dist']\n",
    "    df[f'molecule_atom_index_1_dist_min_div'] = df[f'molecule_atom_index_1_dist_min'] / df['dist']\n",
    "    \n",
    "    #7\n",
    "    df[f'molecule_atom_index_1_dist_std'] = df.groupby(['molecule_name', 'atom_index_1'])['dist'].transform('std')\n",
    "    df[f'molecule_atom_index_1_dist_std_diff'] = df[f'molecule_atom_index_1_dist_std'] - df['dist']\n",
    "    df[f'molecule_atom_index_1_dist_std_div'] = df[f'molecule_atom_index_1_dist_std'] / df['dist']\n",
    "    \n",
    "    df[f'molecule_atom_1_dist_mean'] = df.groupby(['molecule_name', 'atom_1'])['dist'].transform('mean')\n",
    "    df[f'molecule_atom_1_dist_min'] = df.groupby(['molecule_name', 'atom_1'])['dist'].transform('min')\n",
    "    df[f'molecule_atom_1_dist_min_diff'] = df[f'molecule_atom_1_dist_min'] - df['dist']\n",
    "    df[f'molecule_atom_1_dist_min_div'] = df[f'molecule_atom_1_dist_min'] / df['dist']\n",
    "    \n",
    "    #8\n",
    "    df[f'molecule_atom_1_dist_std'] = df.groupby(['molecule_name', 'atom_1'])['dist'].transform('std')\n",
    "    df[f'molecule_atom_1_dist_std_diff'] = df[f'molecule_atom_1_dist_std'] - df['dist']\n",
    "    df[f'molecule_bonds_dist_std'] = df.groupby(['molecule_name', 'bonds'])['dist'].transform('std')\n",
    "    df[f'molecule_bonds_dist_std_diff'] = df[f'molecule_bonds_dist_std'] - df['dist']\n",
    "    \n",
    "    df[f'molecule_type_dist_mean'] = df.groupby(['molecule_name', 'type'])['dist'].transform('mean')\n",
    "    df[f'molecule_type_dist_mean_diff'] = df[f'molecule_type_dist_mean'] - df['dist']\n",
    "    df[f'molecule_type_dist_mean_div'] = df[f'molecule_type_dist_mean'] / df['dist']\n",
    "    \n",
    "    #9\n",
    "    df[f'molecule_type_dist_max'] = df.groupby(['molecule_name', 'type'])['dist'].transform('max')\n",
    "    df[f'molecule_type_dist_min'] = df.groupby(['molecule_name', 'type'])['dist'].transform('min')\n",
    "    df[f'molecule_type_dist_std'] = df.groupby(['molecule_name', 'type'])['dist'].transform('std')\n",
    "    df[f'molecule_type_dist_std_diff'] = df[f'molecule_type_dist_std'] - df['dist']\n",
    "\n",
    "    return df"
   ]
  },
  {
   "cell_type": "code",
   "execution_count": 17,
   "metadata": {},
   "outputs": [
    {
     "name": "stdout",
     "output_type": "stream",
     "text": [
      "CPU times: user 35.7 s, sys: 6.59 s, total: 42.3 s\n",
      "Wall time: 46.8 s\n"
     ]
    }
   ],
   "source": [
    "%%time\n",
    "train2 = pd.read_csv('train_babel_0.csv')"
   ]
  },
  {
   "cell_type": "code",
   "execution_count": 18,
   "metadata": {},
   "outputs": [
    {
     "name": "stdout",
     "output_type": "stream",
     "text": [
      "CPU times: user 4.35 s, sys: 5.95 s, total: 10.3 s\n",
      "Wall time: 13 s\n"
     ]
    }
   ],
   "source": [
    "%%time\n",
    "#1\n",
    "train2['molecule_couples'] = train2.groupby('molecule_name')['id'].transform('count')\n",
    "train2['molecule_dist_mean'] = train2.groupby('molecule_name')['dist'].transform('mean')\n",
    "train2['molecule_dist_min'] = train2.groupby('molecule_name')['dist'].transform('min')\n",
    "train2['molecule_dist_max'] = train2.groupby('molecule_name')['dist'].transform('max')"
   ]
  },
  {
   "cell_type": "code",
   "execution_count": 19,
   "metadata": {},
   "outputs": [
    {
     "name": "stdout",
     "output_type": "stream",
     "text": [
      "CPU times: user 5.97 s, sys: 6.62 s, total: 12.6 s\n",
      "Wall time: 17.8 s\n"
     ]
    }
   ],
   "source": [
    "%%time\n",
    "#2\n",
    "train2['atom_0_couples_count'] = train2.groupby(['molecule_name', 'atom_index_0'])['id'].transform('count')\n",
    "train2['atom_1_couples_count'] = train2.groupby(['molecule_name', 'atom_index_1'])['id'].transform('count')\n",
    "train2[f'molecule_atom_index_0_x_1_std'] = train2.groupby(['molecule_name', 'atom_index_0'])['x_1'].transform('std')\n",
    "train2[f'molecule_atom_index_0_y_1_mean'] = train2.groupby(['molecule_name', 'atom_index_0'])['y_1'].transform('mean')"
   ]
  },
  {
   "cell_type": "code",
   "execution_count": 20,
   "metadata": {},
   "outputs": [
    {
     "name": "stdout",
     "output_type": "stream",
     "text": [
      "CPU times: user 10.5 s, sys: 20.8 s, total: 31.3 s\n",
      "Wall time: 1min 5s\n"
     ]
    }
   ],
   "source": [
    "%%time\n",
    "#3\n",
    "train2[f'molecule_atom_index_0_y_1_mean_diff'] = train2[f'molecule_atom_index_0_y_1_mean'] - train2['y_1']\n",
    "train2[f'molecule_atom_index_0_y_1_mean_div'] = train2[f'molecule_atom_index_0_y_1_mean'] / train2['y_1']\n",
    "train2[f'molecule_atom_index_0_y_1_max'] = train2.groupby(['molecule_name', 'atom_index_0'])['y_1'].transform('max')\n",
    "    \n",
    "train2[f'molecule_atom_index_0_y_1_max_diff'] = train2[f'molecule_atom_index_0_y_1_max'] - train2['y_1']\n",
    "train2[f'molecule_atom_index_0_y_1_std'] = train2.groupby(['molecule_name', 'atom_index_0'])['y_1'].transform('std')\n",
    "train2[f'molecule_atom_index_0_z_1_std'] = train2.groupby(['molecule_name', 'atom_index_0'])['z_1'].transform('std')\n",
    "train2[f'molecule_atom_index_0_dist_mean'] = train2.groupby(['molecule_name', 'atom_index_0'])['dist'].transform('mean')\n",
    "    "
   ]
  },
  {
   "cell_type": "code",
   "execution_count": 21,
   "metadata": {},
   "outputs": [
    {
     "name": "stdout",
     "output_type": "stream",
     "text": [
      "CPU times: user 6.91 s, sys: 16.2 s, total: 23.2 s\n",
      "Wall time: 59.9 s\n"
     ]
    }
   ],
   "source": [
    "%%time\n",
    "#4\n",
    "train2[f'molecule_atom_index_0_dist_mean_diff'] = train2[f'molecule_atom_index_0_dist_mean'] - train2['dist']\n",
    "train2[f'molecule_atom_index_0_dist_mean_div'] = train2[f'molecule_atom_index_0_dist_mean'] / train2['dist']\n",
    "train2[f'molecule_atom_index_0_dist_max'] = train2.groupby(['molecule_name', 'atom_index_0'])['dist'].transform('max')\n",
    "train2[f'molecule_atom_index_0_dist_max_diff'] = train2[f'molecule_atom_index_0_dist_max'] - train2['dist']\n",
    "    \n",
    "train2[f'molecule_atom_index_0_dist_max_div'] = train2[f'molecule_atom_index_0_dist_max'] / train2['dist']\n",
    "train2[f'molecule_atom_index_0_dist_min'] = train2.groupby(['molecule_name', 'atom_index_0'])['dist'].transform('min')\n",
    "train2[f'molecule_atom_index_0_dist_min_diff'] = train2[f'molecule_atom_index_0_dist_min'] - train2['dist']\n",
    "train2[f'molecule_atom_index_0_dist_min_div'] = train2[f'molecule_atom_index_0_dist_min'] / train2['dist']\n",
    "    "
   ]
  },
  {
   "cell_type": "code",
   "execution_count": 22,
   "metadata": {},
   "outputs": [
    {
     "name": "stdout",
     "output_type": "stream",
     "text": [
      "CPU times: user 8.02 s, sys: 21.5 s, total: 29.5 s\n",
      "Wall time: 1min 26s\n"
     ]
    }
   ],
   "source": [
    "%%time\n",
    "#5\n",
    "train2[f'molecule_atom_index_0_dist_std'] = train2.groupby(['molecule_name', 'atom_index_0'])['dist'].transform('std')\n",
    "train2[f'molecule_atom_index_0_dist_std_diff'] = train2[f'molecule_atom_index_0_dist_std'] - train2['dist']\n",
    "train2[f'molecule_atom_index_0_dist_std_div'] = train2[f'molecule_atom_index_0_dist_std'] / train2['dist']\n",
    "    \n",
    "train2[f'molecule_atom_index_1_dist_mean'] = train2.groupby(['molecule_name', 'atom_index_1'])['dist'].transform('mean')\n",
    "train2[f'molecule_atom_index_1_dist_mean_diff'] = train2[f'molecule_atom_index_1_dist_mean'] - train2['dist']\n",
    "train2[f'molecule_atom_index_1_dist_mean_div'] = train2[f'molecule_atom_index_1_dist_mean'] / train2['dist']\n",
    "    "
   ]
  },
  {
   "cell_type": "code",
   "execution_count": 23,
   "metadata": {},
   "outputs": [
    {
     "name": "stdout",
     "output_type": "stream",
     "text": [
      "CPU times: user 9.66 s, sys: 28 s, total: 37.7 s\n",
      "Wall time: 2min 33s\n"
     ]
    }
   ],
   "source": [
    "%%time\n",
    "#6\n",
    "train2[f'molecule_atom_index_1_dist_max'] = train2.groupby(['molecule_name', 'atom_index_1'])['dist'].transform('max')\n",
    "train2[f'molecule_atom_index_1_dist_max_diff'] = train2[f'molecule_atom_index_1_dist_max'] - train2['dist']\n",
    "train2[f'molecule_atom_index_1_dist_max_div'] = train2[f'molecule_atom_index_1_dist_max'] / train2['dist']\n",
    "    \n",
    "train2[f'molecule_atom_index_1_dist_min'] = train2.groupby(['molecule_name', 'atom_index_1'])['dist'].transform('min')\n",
    "train2[f'molecule_atom_index_1_dist_min_diff'] = train2[f'molecule_atom_index_1_dist_min'] - train2['dist']\n",
    "train2[f'molecule_atom_index_1_dist_min_div'] = train2[f'molecule_atom_index_1_dist_min'] / train2['dist']\n",
    "    \n",
    "    "
   ]
  },
  {
   "cell_type": "code",
   "execution_count": 24,
   "metadata": {},
   "outputs": [
    {
     "name": "stdout",
     "output_type": "stream",
     "text": [
      "CPU times: user 16.3 s, sys: 51.1 s, total: 1min 7s\n",
      "Wall time: 5min 11s\n"
     ]
    }
   ],
   "source": [
    "%%time\n",
    "#7\n",
    "train2[f'molecule_atom_index_1_dist_std'] = train2.groupby(['molecule_name', 'atom_index_1'])['dist'].transform('std')\n",
    "train2[f'molecule_atom_index_1_dist_std_diff'] = train2[f'molecule_atom_index_1_dist_std'] - train2['dist']\n",
    "train2[f'molecule_atom_index_1_dist_std_div'] = train2[f'molecule_atom_index_1_dist_std'] / train2['dist']\n",
    "    \n",
    "train2[f'molecule_atom_1_dist_mean'] = train2.groupby(['molecule_name', 'atom_1'])['dist'].transform('mean')\n",
    "train2[f'molecule_atom_1_dist_min'] = train2.groupby(['molecule_name', 'atom_1'])['dist'].transform('min')\n",
    "train2[f'molecule_atom_1_dist_min_diff'] = train2[f'molecule_atom_1_dist_min'] - train2['dist']\n",
    "train2[f'molecule_atom_1_dist_min_div'] = train2[f'molecule_atom_1_dist_min'] / train2['dist']  "
   ]
  },
  {
   "cell_type": "code",
   "execution_count": null,
   "metadata": {},
   "outputs": [],
   "source": [
    "%%time\n",
    "#8\n",
    "train2[f'molecule_atom_1_dist_std'] = train2.groupby(['molecule_name', 'atom_1'])['dist'].transform('std')\n",
    "train2[f'molecule_atom_1_dist_std_diff'] = train2[f'molecule_atom_1_dist_std'] - train2['dist']\n",
    "train2[f'molecule_bonds_dist_std'] = train2.groupby(['molecule_name', 'bonds'])['dist'].transform('std')\n",
    "train2[f'molecule_bonds_dist_std_diff'] = train2[f'molecule_bonds_dist_std'] - train2['dist']\n",
    "    \n",
    "train2[f'molecule_type_dist_mean'] = train2.groupby(['molecule_name', 'type'])['dist'].transform('mean')\n",
    "train2[f'molecule_type_dist_mean_diff'] = train2[f'molecule_type_dist_mean'] - train2['dist']\n",
    "train2[f'molecule_type_dist_mean_div'] = train2[f'molecule_type_dist_mean'] / train2['dist']\n",
    "    "
   ]
  },
  {
   "cell_type": "code",
   "execution_count": null,
   "metadata": {},
   "outputs": [],
   "source": [
    "%%time\n",
    "#9\n",
    "train2[f'molecule_type_dist_max'] = train2.groupby(['molecule_name', 'type'])['dist'].transform('max')\n",
    "train2[f'molecule_type_dist_min'] = train2.groupby(['molecule_name', 'type'])['dist'].transform('min')\n",
    "train2[f'molecule_type_dist_std'] = train2.groupby(['molecule_name', 'type'])['dist'].transform('std')\n",
    "train2[f'molecule_type_dist_std_diff'] = train2[f'molecule_type_dist_std'] - train2['dist']"
   ]
  },
  {
   "cell_type": "code",
   "execution_count": null,
   "metadata": {},
   "outputs": [],
   "source": [
    "train2.head().T"
   ]
  },
  {
   "cell_type": "code",
   "execution_count": null,
   "metadata": {},
   "outputs": [],
   "source": [
    "train2.info(memory_usage='deep')"
   ]
  },
  {
   "cell_type": "code",
   "execution_count": 37,
   "metadata": {},
   "outputs": [
    {
     "data": {
      "text/plain": [
       "Index(['Unnamed: 0', 'id', 'molecule_name', 'atom_index_0', 'atom_index_1',\n",
       "       'type', 'scalar_coupling_constant', 'atom_0', 'x_0', 'y_0', 'z_0',\n",
       "       'atom_1', 'x_1', 'y_1', 'z_1', 'bonds', 'dist', 'abs_dist', 'dist_xy',\n",
       "       'abs_dist_xy', 'dist_xz', 'abs_dist_xz', 'dist_yz', 'abs_dist_yz',\n",
       "       'dist_to_type_mean', 'dist_to_type_std', 'dist_to_type_mean_xy',\n",
       "       'dist_to_type_mean_xz', 'dist_to_type_mean_yz', 'molecule_couples',\n",
       "       'molecule_dist_mean', 'molecule_dist_min', 'molecule_dist_max',\n",
       "       'atom_0_couples_count', 'atom_1_couples_count',\n",
       "       'molecule_atom_index_0_x_1_std', 'molecule_atom_index_0_y_1_mean',\n",
       "       'molecule_atom_index_0_y_1_mean_diff',\n",
       "       'molecule_atom_index_0_y_1_mean_div', 'molecule_atom_index_0_y_1_max',\n",
       "       'molecule_atom_index_0_y_1_max_diff', 'molecule_atom_index_0_y_1_std',\n",
       "       'molecule_atom_index_0_z_1_std', 'molecule_atom_index_0_dist_mean',\n",
       "       'molecule_atom_index_0_dist_mean_diff',\n",
       "       'molecule_atom_index_0_dist_mean_div', 'molecule_atom_index_0_dist_max',\n",
       "       'molecule_atom_index_0_dist_max_diff',\n",
       "       'molecule_atom_index_0_dist_max_div', 'molecule_atom_index_0_dist_min',\n",
       "       'molecule_atom_index_0_dist_min_diff',\n",
       "       'molecule_atom_index_0_dist_min_div', 'molecule_atom_index_0_dist_std',\n",
       "       'molecule_atom_index_0_dist_std_diff',\n",
       "       'molecule_atom_index_0_dist_std_div', 'molecule_atom_index_1_dist_mean',\n",
       "       'molecule_atom_index_1_dist_mean_diff',\n",
       "       'molecule_atom_index_1_dist_mean_div', 'molecule_atom_index_1_dist_max',\n",
       "       'molecule_atom_index_1_dist_max_diff',\n",
       "       'molecule_atom_index_1_dist_max_div', 'molecule_atom_index_1_dist_min',\n",
       "       'molecule_atom_index_1_dist_min_diff',\n",
       "       'molecule_atom_index_1_dist_min_div', 'molecule_atom_index_1_dist_std',\n",
       "       'molecule_atom_index_1_dist_std_diff',\n",
       "       'molecule_atom_index_1_dist_std_div', 'molecule_atom_1_dist_mean',\n",
       "       'molecule_atom_1_dist_min', 'molecule_atom_1_dist_min_diff',\n",
       "       'molecule_atom_1_dist_min_div', 'molecule_atom_1_dist_std',\n",
       "       'molecule_atom_1_dist_std_diff', 'molecule_bonds_dist_std',\n",
       "       'molecule_bonds_dist_std_diff', 'molecule_type_dist_mean',\n",
       "       'molecule_type_dist_mean_diff', 'molecule_type_dist_mean_div',\n",
       "       'molecule_type_dist_max', 'molecule_type_dist_min',\n",
       "       'molecule_type_dist_std', 'molecule_type_dist_std_diff'],\n",
       "      dtype='object')"
      ]
     },
     "execution_count": 37,
     "metadata": {},
     "output_type": "execute_result"
    }
   ],
   "source": [
    "train2.columns"
   ]
  },
  {
   "cell_type": "code",
   "execution_count": 39,
   "metadata": {},
   "outputs": [
    {
     "ename": "SystemError",
     "evalue": "<built-in method item of numpy.ndarray object at 0x151aae4170> returned a result with an error set",
     "output_type": "error",
     "traceback": [
      "\u001b[0;31m---------------------------------------------------------------------------\u001b[0m",
      "\u001b[0;31mKeyboardInterrupt\u001b[0m                         Traceback (most recent call last)",
      "\u001b[0;31mKeyboardInterrupt\u001b[0m: ",
      "\nThe above exception was the direct cause of the following exception:\n",
      "\u001b[0;31mSystemError\u001b[0m                               Traceback (most recent call last)",
      "\u001b[0;31mSystemError\u001b[0m: <built-in method item of numpy.ndarray object at 0x151aae4170> returned a result with an error set",
      "\nThe above exception was the direct cause of the following exception:\n",
      "\u001b[0;31mSystemError\u001b[0m                               Traceback (most recent call last)",
      "\u001b[0;31mSystemError\u001b[0m: <built-in method item of numpy.ndarray object at 0x151aae4170> returned a result with an error set",
      "\nThe above exception was the direct cause of the following exception:\n",
      "\u001b[0;31mSystemError\u001b[0m                               Traceback (most recent call last)",
      "\u001b[0;31mSystemError\u001b[0m: <built-in method item of numpy.ndarray object at 0x151aae4170> returned a result with an error set",
      "\nThe above exception was the direct cause of the following exception:\n",
      "\u001b[0;31mSystemError\u001b[0m                               Traceback (most recent call last)",
      "\u001b[0;31mSystemError\u001b[0m: <built-in method item of numpy.ndarray object at 0x151aae4170> returned a result with an error set",
      "\nThe above exception was the direct cause of the following exception:\n",
      "\u001b[0;31mSystemError\u001b[0m                               Traceback (most recent call last)",
      "\u001b[0;31mSystemError\u001b[0m: <built-in method item of numpy.ndarray object at 0x151aae4170> returned a result with an error set",
      "\nThe above exception was the direct cause of the following exception:\n",
      "\u001b[0;31mSystemError\u001b[0m                               Traceback (most recent call last)",
      "\u001b[0;31mSystemError\u001b[0m: <built-in method item of numpy.ndarray object at 0x151aae4170> returned a result with an error set",
      "\nThe above exception was the direct cause of the following exception:\n",
      "\u001b[0;31mSystemError\u001b[0m                               Traceback (most recent call last)",
      "\u001b[0;31mSystemError\u001b[0m: <built-in method item of numpy.ndarray object at 0x151aae4170> returned a result with an error set",
      "\nThe above exception was the direct cause of the following exception:\n",
      "\u001b[0;31mSystemError\u001b[0m                               Traceback (most recent call last)",
      "\u001b[0;31mSystemError\u001b[0m: <built-in method item of numpy.ndarray object at 0x151aae4170> returned a result with an error set",
      "\nThe above exception was the direct cause of the following exception:\n",
      "\u001b[0;31mSystemError\u001b[0m                               Traceback (most recent call last)",
      "\u001b[0;31mSystemError\u001b[0m: <built-in method item of numpy.ndarray object at 0x151aae4170> returned a result with an error set",
      "\nThe above exception was the direct cause of the following exception:\n",
      "\u001b[0;31mSystemError\u001b[0m                               Traceback (most recent call last)",
      "\u001b[0;31mSystemError\u001b[0m: <built-in method item of numpy.ndarray object at 0x151aae4170> returned a result with an error set",
      "\nThe above exception was the direct cause of the following exception:\n",
      "\u001b[0;31mSystemError\u001b[0m                               Traceback (most recent call last)",
      "\u001b[0;31mSystemError\u001b[0m: <built-in method item of numpy.ndarray object at 0x151aae4170> returned a result with an error set",
      "\nThe above exception was the direct cause of the following exception:\n",
      "\u001b[0;31mSystemError\u001b[0m                               Traceback (most recent call last)",
      "\u001b[0;31mSystemError\u001b[0m: <built-in method item of numpy.ndarray object at 0x151aae4170> returned a result with an error set",
      "\nThe above exception was the direct cause of the following exception:\n",
      "\u001b[0;31mSystemError\u001b[0m                               Traceback (most recent call last)",
      "\u001b[0;31mSystemError\u001b[0m: <built-in method item of numpy.ndarray object at 0x151aae4170> returned a result with an error set",
      "\nThe above exception was the direct cause of the following exception:\n",
      "\u001b[0;31mSystemError\u001b[0m                               Traceback (most recent call last)",
      "\u001b[0;31mSystemError\u001b[0m: <built-in method item of numpy.ndarray object at 0x151aae4170> returned a result with an error set",
      "\nThe above exception was the direct cause of the following exception:\n",
      "\u001b[0;31mSystemError\u001b[0m                               Traceback (most recent call last)",
      "\u001b[0;31mSystemError\u001b[0m: <built-in method item of numpy.ndarray object at 0x151aae4170> returned a result with an error set",
      "\nThe above exception was the direct cause of the following exception:\n",
      "\u001b[0;31mSystemError\u001b[0m                               Traceback (most recent call last)",
      "\u001b[0;31mSystemError\u001b[0m: <built-in method item of numpy.ndarray object at 0x151aae4170> returned a result with an error set",
      "\nThe above exception was the direct cause of the following exception:\n",
      "\u001b[0;31mSystemError\u001b[0m                               Traceback (most recent call last)",
      "\u001b[0;31mSystemError\u001b[0m: <built-in method item of numpy.ndarray object at 0x151aae4170> returned a result with an error set",
      "\nThe above exception was the direct cause of the following exception:\n",
      "\u001b[0;31mSystemError\u001b[0m                               Traceback (most recent call last)",
      "\u001b[0;31mSystemError\u001b[0m: <built-in method item of numpy.ndarray object at 0x151aae4170> returned a result with an error set",
      "\nThe above exception was the direct cause of the following exception:\n",
      "\u001b[0;31mSystemError\u001b[0m                               Traceback (most recent call last)",
      "\u001b[0;31mSystemError\u001b[0m: <built-in method item of numpy.ndarray object at 0x151aae4170> returned a result with an error set",
      "\nThe above exception was the direct cause of the following exception:\n",
      "\u001b[0;31mSystemError\u001b[0m                               Traceback (most recent call last)",
      "\u001b[0;31mSystemError\u001b[0m: <built-in method item of numpy.ndarray object at 0x151aae4170> returned a result with an error set",
      "\nThe above exception was the direct cause of the following exception:\n",
      "\u001b[0;31mSystemError\u001b[0m                               Traceback (most recent call last)",
      "\u001b[0;31mSystemError\u001b[0m: <built-in method item of numpy.ndarray object at 0x151aae4170> returned a result with an error set",
      "\nThe above exception was the direct cause of the following exception:\n",
      "\u001b[0;31mSystemError\u001b[0m                               Traceback (most recent call last)",
      "\u001b[0;31mSystemError\u001b[0m: <built-in method item of numpy.ndarray object at 0x151aae4170> returned a result with an error set",
      "\nThe above exception was the direct cause of the following exception:\n",
      "\u001b[0;31mSystemError\u001b[0m                               Traceback (most recent call last)",
      "\u001b[0;31mSystemError\u001b[0m: <built-in method item of numpy.ndarray object at 0x151aae4170> returned a result with an error set",
      "\nThe above exception was the direct cause of the following exception:\n",
      "\u001b[0;31mSystemError\u001b[0m                               Traceback (most recent call last)",
      "\u001b[0;31mSystemError\u001b[0m: <built-in method item of numpy.ndarray object at 0x151aae4170> returned a result with an error set",
      "\nThe above exception was the direct cause of the following exception:\n",
      "\u001b[0;31mSystemError\u001b[0m                               Traceback (most recent call last)",
      "\u001b[0;31mSystemError\u001b[0m: <built-in method item of numpy.ndarray object at 0x151aae4170> returned a result with an error set",
      "\nThe above exception was the direct cause of the following exception:\n",
      "\u001b[0;31mSystemError\u001b[0m                               Traceback (most recent call last)",
      "\u001b[0;31mSystemError\u001b[0m: <built-in method item of numpy.ndarray object at 0x151aae4170> returned a result with an error set",
      "\nThe above exception was the direct cause of the following exception:\n",
      "\u001b[0;31mSystemError\u001b[0m                               Traceback (most recent call last)",
      "\u001b[0;31mSystemError\u001b[0m: <built-in method item of numpy.ndarray object at 0x151aae4170> returned a result with an error set",
      "\nThe above exception was the direct cause of the following exception:\n",
      "\u001b[0;31mSystemError\u001b[0m                               Traceback (most recent call last)",
      "\u001b[0;31mSystemError\u001b[0m: <built-in method item of numpy.ndarray object at 0x151aae4170> returned a result with an error set",
      "\nThe above exception was the direct cause of the following exception:\n",
      "\u001b[0;31mSystemError\u001b[0m                               Traceback (most recent call last)",
      "\u001b[0;31mSystemError\u001b[0m: <built-in method item of numpy.ndarray object at 0x151aae4170> returned a result with an error set",
      "\nThe above exception was the direct cause of the following exception:\n",
      "\u001b[0;31mSystemError\u001b[0m                               Traceback (most recent call last)",
      "\u001b[0;31mSystemError\u001b[0m: <built-in method item of numpy.ndarray object at 0x151aae4170> returned a result with an error set",
      "\nThe above exception was the direct cause of the following exception:\n",
      "\u001b[0;31mSystemError\u001b[0m                               Traceback (most recent call last)",
      "\u001b[0;31mSystemError\u001b[0m: <built-in method item of numpy.ndarray object at 0x151aae4170> returned a result with an error set",
      "\nThe above exception was the direct cause of the following exception:\n",
      "\u001b[0;31mSystemError\u001b[0m                               Traceback (most recent call last)",
      "\u001b[0;31mSystemError\u001b[0m: <built-in method item of numpy.ndarray object at 0x151aae4170> returned a result with an error set",
      "\nThe above exception was the direct cause of the following exception:\n",
      "\u001b[0;31mSystemError\u001b[0m                               Traceback (most recent call last)",
      "\u001b[0;31mSystemError\u001b[0m: <built-in method item of numpy.ndarray object at 0x151aae4170> returned a result with an error set",
      "\nThe above exception was the direct cause of the following exception:\n",
      "\u001b[0;31mSystemError\u001b[0m                               Traceback (most recent call last)",
      "\u001b[0;31mSystemError\u001b[0m: <built-in method item of numpy.ndarray object at 0x151aae4170> returned a result with an error set",
      "\nThe above exception was the direct cause of the following exception:\n",
      "\u001b[0;31mSystemError\u001b[0m                               Traceback (most recent call last)",
      "\u001b[0;31mSystemError\u001b[0m: <built-in method item of numpy.ndarray object at 0x151aae4170> returned a result with an error set",
      "\nThe above exception was the direct cause of the following exception:\n",
      "\u001b[0;31mSystemError\u001b[0m                               Traceback (most recent call last)",
      "\u001b[0;31mSystemError\u001b[0m: <built-in method item of numpy.ndarray object at 0x151aae4170> returned a result with an error set",
      "\nThe above exception was the direct cause of the following exception:\n",
      "\u001b[0;31mSystemError\u001b[0m                               Traceback (most recent call last)",
      "\u001b[0;31mSystemError\u001b[0m: <built-in method item of numpy.ndarray object at 0x151aae4170> returned a result with an error set",
      "\nThe above exception was the direct cause of the following exception:\n",
      "\u001b[0;31mSystemError\u001b[0m                               Traceback (most recent call last)",
      "\u001b[0;31mSystemError\u001b[0m: <built-in method item of numpy.ndarray object at 0x151aae4170> returned a result with an error set",
      "\nThe above exception was the direct cause of the following exception:\n",
      "\u001b[0;31mSystemError\u001b[0m                               Traceback (most recent call last)",
      "\u001b[0;31mSystemError\u001b[0m: <built-in method item of numpy.ndarray object at 0x151aae4170> returned a result with an error set",
      "\nThe above exception was the direct cause of the following exception:\n",
      "\u001b[0;31mSystemError\u001b[0m                               Traceback (most recent call last)",
      "\u001b[0;31mSystemError\u001b[0m: <built-in method item of numpy.ndarray object at 0x151aae4170> returned a result with an error set",
      "\nThe above exception was the direct cause of the following exception:\n",
      "\u001b[0;31mSystemError\u001b[0m                               Traceback (most recent call last)",
      "\u001b[0;31mSystemError\u001b[0m: <built-in method item of numpy.ndarray object at 0x151aae4170> returned a result with an error set",
      "\nThe above exception was the direct cause of the following exception:\n",
      "\u001b[0;31mSystemError\u001b[0m                               Traceback (most recent call last)",
      "\u001b[0;31mSystemError\u001b[0m: <built-in method item of numpy.ndarray object at 0x151aae4170> returned a result with an error set",
      "\nThe above exception was the direct cause of the following exception:\n",
      "\u001b[0;31mSystemError\u001b[0m                               Traceback (most recent call last)",
      "\u001b[0;32m<timed eval>\u001b[0m in \u001b[0;36m<module>\u001b[0;34m()\u001b[0m\n",
      "\u001b[0;32m/anaconda3/lib/python3.6/site-packages/pandas/core/generic.py\u001b[0m in \u001b[0;36mto_csv\u001b[0;34m(self, path_or_buf, sep, na_rep, float_format, columns, header, index, index_label, mode, encoding, compression, quoting, quotechar, line_terminator, chunksize, tupleize_cols, date_format, doublequote, escapechar, decimal)\u001b[0m\n\u001b[1;32m   3018\u001b[0m                                  \u001b[0mdoublequote\u001b[0m\u001b[0;34m=\u001b[0m\u001b[0mdoublequote\u001b[0m\u001b[0;34m,\u001b[0m\u001b[0;34m\u001b[0m\u001b[0;34m\u001b[0m\u001b[0m\n\u001b[1;32m   3019\u001b[0m                                  escapechar=escapechar, decimal=decimal)\n\u001b[0;32m-> 3020\u001b[0;31m         \u001b[0mformatter\u001b[0m\u001b[0;34m.\u001b[0m\u001b[0msave\u001b[0m\u001b[0;34m(\u001b[0m\u001b[0;34m)\u001b[0m\u001b[0;34m\u001b[0m\u001b[0;34m\u001b[0m\u001b[0m\n\u001b[0m\u001b[1;32m   3021\u001b[0m \u001b[0;34m\u001b[0m\u001b[0m\n\u001b[1;32m   3022\u001b[0m         \u001b[0;32mif\u001b[0m \u001b[0mpath_or_buf\u001b[0m \u001b[0;32mis\u001b[0m \u001b[0;32mNone\u001b[0m\u001b[0;34m:\u001b[0m\u001b[0;34m\u001b[0m\u001b[0;34m\u001b[0m\u001b[0m\n",
      "\u001b[0;32m/anaconda3/lib/python3.6/site-packages/pandas/io/formats/csvs.py\u001b[0m in \u001b[0;36msave\u001b[0;34m(self)\u001b[0m\n\u001b[1;32m    170\u001b[0m                 \u001b[0mself\u001b[0m\u001b[0;34m.\u001b[0m\u001b[0mwriter\u001b[0m \u001b[0;34m=\u001b[0m \u001b[0mUnicodeWriter\u001b[0m\u001b[0;34m(\u001b[0m\u001b[0mf\u001b[0m\u001b[0;34m,\u001b[0m \u001b[0;34m**\u001b[0m\u001b[0mwriter_kwargs\u001b[0m\u001b[0;34m)\u001b[0m\u001b[0;34m\u001b[0m\u001b[0;34m\u001b[0m\u001b[0m\n\u001b[1;32m    171\u001b[0m \u001b[0;34m\u001b[0m\u001b[0m\n\u001b[0;32m--> 172\u001b[0;31m             \u001b[0mself\u001b[0m\u001b[0;34m.\u001b[0m\u001b[0m_save\u001b[0m\u001b[0;34m(\u001b[0m\u001b[0;34m)\u001b[0m\u001b[0;34m\u001b[0m\u001b[0;34m\u001b[0m\u001b[0m\n\u001b[0m\u001b[1;32m    173\u001b[0m \u001b[0;34m\u001b[0m\u001b[0m\n\u001b[1;32m    174\u001b[0m         \u001b[0;32mfinally\u001b[0m\u001b[0;34m:\u001b[0m\u001b[0;34m\u001b[0m\u001b[0;34m\u001b[0m\u001b[0m\n",
      "\u001b[0;32m/anaconda3/lib/python3.6/site-packages/pandas/io/formats/csvs.py\u001b[0m in \u001b[0;36m_save\u001b[0;34m(self)\u001b[0m\n\u001b[1;32m    286\u001b[0m                 \u001b[0;32mbreak\u001b[0m\u001b[0;34m\u001b[0m\u001b[0;34m\u001b[0m\u001b[0m\n\u001b[1;32m    287\u001b[0m \u001b[0;34m\u001b[0m\u001b[0m\n\u001b[0;32m--> 288\u001b[0;31m             \u001b[0mself\u001b[0m\u001b[0;34m.\u001b[0m\u001b[0m_save_chunk\u001b[0m\u001b[0;34m(\u001b[0m\u001b[0mstart_i\u001b[0m\u001b[0;34m,\u001b[0m \u001b[0mend_i\u001b[0m\u001b[0;34m)\u001b[0m\u001b[0;34m\u001b[0m\u001b[0;34m\u001b[0m\u001b[0m\n\u001b[0m\u001b[1;32m    289\u001b[0m \u001b[0;34m\u001b[0m\u001b[0m\n\u001b[1;32m    290\u001b[0m     \u001b[0;32mdef\u001b[0m \u001b[0m_save_chunk\u001b[0m\u001b[0;34m(\u001b[0m\u001b[0mself\u001b[0m\u001b[0;34m,\u001b[0m \u001b[0mstart_i\u001b[0m\u001b[0;34m,\u001b[0m \u001b[0mend_i\u001b[0m\u001b[0;34m)\u001b[0m\u001b[0;34m:\u001b[0m\u001b[0;34m\u001b[0m\u001b[0;34m\u001b[0m\u001b[0m\n",
      "\u001b[0;32m/anaconda3/lib/python3.6/site-packages/pandas/io/formats/csvs.py\u001b[0m in \u001b[0;36m_save_chunk\u001b[0;34m(self, start_i, end_i)\u001b[0m\n\u001b[1;32m    300\u001b[0m                                   \u001b[0mdecimal\u001b[0m\u001b[0;34m=\u001b[0m\u001b[0mself\u001b[0m\u001b[0;34m.\u001b[0m\u001b[0mdecimal\u001b[0m\u001b[0;34m,\u001b[0m\u001b[0;34m\u001b[0m\u001b[0;34m\u001b[0m\u001b[0m\n\u001b[1;32m    301\u001b[0m                                   \u001b[0mdate_format\u001b[0m\u001b[0;34m=\u001b[0m\u001b[0mself\u001b[0m\u001b[0;34m.\u001b[0m\u001b[0mdate_format\u001b[0m\u001b[0;34m,\u001b[0m\u001b[0;34m\u001b[0m\u001b[0;34m\u001b[0m\u001b[0m\n\u001b[0;32m--> 302\u001b[0;31m                                   quoting=self.quoting)\n\u001b[0m\u001b[1;32m    303\u001b[0m \u001b[0;34m\u001b[0m\u001b[0m\n\u001b[1;32m    304\u001b[0m             \u001b[0;32mfor\u001b[0m \u001b[0mcol_loc\u001b[0m\u001b[0;34m,\u001b[0m \u001b[0mcol\u001b[0m \u001b[0;32min\u001b[0m \u001b[0mzip\u001b[0m\u001b[0;34m(\u001b[0m\u001b[0mb\u001b[0m\u001b[0;34m.\u001b[0m\u001b[0mmgr_locs\u001b[0m\u001b[0;34m,\u001b[0m \u001b[0md\u001b[0m\u001b[0;34m)\u001b[0m\u001b[0;34m:\u001b[0m\u001b[0;34m\u001b[0m\u001b[0;34m\u001b[0m\u001b[0m\n",
      "\u001b[0;32m/anaconda3/lib/python3.6/site-packages/pandas/core/internals/blocks.py\u001b[0m in \u001b[0;36mto_native_types\u001b[0;34m(self, slicer, na_rep, quoting, **kwargs)\u001b[0m\n\u001b[1;32m    739\u001b[0m \u001b[0;34m\u001b[0m\u001b[0m\n\u001b[1;32m    740\u001b[0m         \u001b[0;32mif\u001b[0m \u001b[0;32mnot\u001b[0m \u001b[0mself\u001b[0m\u001b[0;34m.\u001b[0m\u001b[0mis_object\u001b[0m \u001b[0;32mand\u001b[0m \u001b[0;32mnot\u001b[0m \u001b[0mquoting\u001b[0m\u001b[0;34m:\u001b[0m\u001b[0;34m\u001b[0m\u001b[0;34m\u001b[0m\u001b[0m\n\u001b[0;32m--> 741\u001b[0;31m             \u001b[0mvalues\u001b[0m \u001b[0;34m=\u001b[0m \u001b[0mvalues\u001b[0m\u001b[0;34m.\u001b[0m\u001b[0mastype\u001b[0m\u001b[0;34m(\u001b[0m\u001b[0mstr\u001b[0m\u001b[0;34m)\u001b[0m\u001b[0;34m\u001b[0m\u001b[0;34m\u001b[0m\u001b[0m\n\u001b[0m\u001b[1;32m    742\u001b[0m         \u001b[0;32melse\u001b[0m\u001b[0;34m:\u001b[0m\u001b[0;34m\u001b[0m\u001b[0;34m\u001b[0m\u001b[0m\n\u001b[1;32m    743\u001b[0m             \u001b[0mvalues\u001b[0m \u001b[0;34m=\u001b[0m \u001b[0mnp\u001b[0m\u001b[0;34m.\u001b[0m\u001b[0marray\u001b[0m\u001b[0;34m(\u001b[0m\u001b[0mvalues\u001b[0m\u001b[0;34m,\u001b[0m \u001b[0mdtype\u001b[0m\u001b[0;34m=\u001b[0m\u001b[0;34m'object'\u001b[0m\u001b[0;34m)\u001b[0m\u001b[0;34m\u001b[0m\u001b[0;34m\u001b[0m\u001b[0m\n",
      "\u001b[0;31mSystemError\u001b[0m: <built-in method item of numpy.ndarray object at 0x151aae4170> returned a result with an error set"
     ]
    }
   ],
   "source": [
    "%%time\n",
    "train2.loc[:,:'molecule_atom_index_1_dist_mean_diff'].to_csv('train_babel_part1.csv')"
   ]
  },
  {
   "cell_type": "code",
   "execution_count": null,
   "metadata": {},
   "outputs": [],
   "source": [
    "%%time\n",
    "train2 = create_features(train2)\n",
    "\n",
    "train2 = reduce_mem_usage(train2)\n",
    "train2.to_csv('train_babel_1.csv')\n",
    "del train2"
   ]
  },
  {
   "cell_type": "code",
   "execution_count": null,
   "metadata": {},
   "outputs": [],
   "source": [
    "%%time\n",
    "test2 = pd.read_csv('test_babel_0.csv')"
   ]
  },
  {
   "cell_type": "code",
   "execution_count": null,
   "metadata": {},
   "outputs": [],
   "source": [
    "%%time\n",
    "test2 = create_features(test2)\n",
    "test2 = reduce_mem_usage(test2)\n",
    "test2.to_csv('test_babel_1.csv')\n",
    "del test2"
   ]
  },
  {
   "cell_type": "markdown",
   "metadata": {},
   "source": [
    "## Part 3"
   ]
  },
  {
   "cell_type": "markdown",
   "metadata": {},
   "source": [
    "## Features from open babel"
   ]
  },
  {
   "cell_type": "code",
   "execution_count": null,
   "metadata": {},
   "outputs": [],
   "source": [
    "%%time\n",
    "obConversion = openbabel.OBConversion()\n",
    "obConversion.SetInFormat(\"xyz\")\n",
    "\n",
    "structdir='structures/'\n",
    "mols=[]\n",
    "mols_files=os.listdir(structdir)\n",
    "mols_index=dict(map(reversed,enumerate(mols_files)))\n",
    "for f in mols_index.keys():\n",
    "    mol = openbabel.OBMol()\n",
    "    obConversion.ReadFile(mol, structdir+f) \n",
    "    mols.append(mol)"
   ]
  },
  {
   "cell_type": "code",
   "execution_count": null,
   "metadata": {},
   "outputs": [],
   "source": [
    "def Atoms(molname,AtomId1,AtomId2):\n",
    "    mol=mols[mols_index[molname+'.xyz']]\n",
    "    return mol, mol.GetAtomById(AtomId1), mol.GetAtomById(AtomId2)\n",
    "\n",
    "def SecondAtom(bond,FirstAtom):\n",
    "    if FirstAtom.GetId()==bond.GetBeginAtom().GetId(): return bond.GetEndAtom()\n",
    "    else: return bond.GetBeginAtom()\n",
    "\n",
    "def Angle2J(molname,AtomId1,AtomId2,debug=False):\n",
    "    mol,firstAtom,lastAtom=Atoms(molname,AtomId1,AtomId2)\n",
    "    if debug: print (mol.GetFormula())\n",
    "    if debug: print(firstAtom.GetType(),firstAtom.GetId(),':',lastAtom.GetType(),lastAtom.GetId())\n",
    "    for b in openbabel.OBAtomBondIter(firstAtom): # all bonds for first atom\n",
    "      secondAtom=SecondAtom(b,firstAtom)\n",
    "      lastBond=secondAtom.GetBond(lastAtom)\n",
    "      if lastBond: # found!\n",
    "        if debug: print('middle',secondAtom.GetId(),secondAtom.GetType())\n",
    "        return firstAtom.GetAngle(secondAtom,lastAtom)\n",
    "\n",
    "#Angle2J('dsgdb9nsd_000003',1,2,debug=True) #water"
   ]
  },
  {
   "cell_type": "code",
   "execution_count": null,
   "metadata": {},
   "outputs": [],
   "source": [
    "def Torsion3J(molname,AtomId1,AtomId2,debug=False):\n",
    "    mol,firstAtom,lastAtom=Atoms(molname,AtomId1,AtomId2)\n",
    "    if debug: print (molname, mol.GetFormula())\n",
    "    if debug: print(firstAtom.GetType(),firstAtom.GetId(),':',lastAtom.GetType(),lastAtom.GetId())\n",
    "    for b in openbabel.OBAtomBondIter(firstAtom): # all bonds for first atom\n",
    "      secondAtom=SecondAtom(b,firstAtom)\n",
    "      for b2 in openbabel.OBAtomBondIter(secondAtom): # all bonds for second atom \n",
    "        thirdAtom=SecondAtom(b2,secondAtom)\n",
    "        lastBond=thirdAtom.GetBond(lastAtom)\n",
    "        if lastBond: # found!\n",
    "          if debug: print(secondAtom.GetType(),secondAtom.GetId(),'<->',thirdAtom.GetType(),thirdAtom.GetId())\n",
    "          return mol.GetTorsion(firstAtom,secondAtom,thirdAtom,lastAtom)\n",
    "          \n",
    "#Torsion3J('dsgdb9nsd_000007',2,5,debug=True) #methanol"
   ]
  },
  {
   "cell_type": "code",
   "execution_count": null,
   "metadata": {},
   "outputs": [],
   "source": [
    "for t in train['type'].unique():\n",
    "    print(f'Training of type {t}')\n",
    "    b=int(t[0]) # current bond for this type\n",
    "    print('Predicting J=',b)\n",
    "    X=train[train.type==t]\n",
    "    if (b==1):\n",
    "        X['sp']=X.apply(lambda row: Atoms(row.molecule_name, row.atom_index_0, row.atom_index_1)[2].GetHyb(),axis=1) # second atom is C or N for bond 1\n",
    "    if (b==2):\n",
    "        X['Angle']=X.apply(lambda row: Angle2J(row.molecule_name , row.atom_index_0, row.atom_index_1),axis=1) \n",
    "    if (b==3):\n",
    "        X['Torsion']=X.apply(lambda row: Torsion3J(row.molecule_name , row.atom_index_0, row.atom_index_1),axis=1) \n",
    "        X['cosT']=np.cos(np.deg2rad(X['Torsion']))\n",
    "        X['cos2T']=np.cos(2*np.deg2rad(X['Torsion']))\n",
    "    y = X['scalar_coupling_constant']\n",
    "    ids_train=X['id']\n",
    "    X = X.drop(['id','type', 'molecule_name', 'scalar_coupling_constant','bonds'], axis=1)\n",
    "    \n",
    "    X_test = test[test.type==t]\n",
    "    if (b==1): \n",
    "        X_test['sp']=X_test.apply(lambda row: Atoms(row.molecule_name, row.atom_index_0, row.atom_index_1)[2].GetHyb(),axis=1) # second atom is C or N for bond 1\n",
    "    if (b==2):\n",
    "        X_test['Angle']=X_test.apply(lambda row: Angle2J(row.molecule_name , row.atom_index_0, row.atom_index_1),axis=1) \n",
    "    if (b==3):\n",
    "        X_test['Torsion']=X_test.apply(lambda row: Torsion3J(row.molecule_name , row.atom_index_0, row.atom_index_1),axis=1)  \n",
    "        X_test['cosT']=np.cos(np.deg2rad(X_test['Torsion']))\n",
    "        X_test['cos2T']=np.cos(2*np.deg2rad(X_test['Torsion']))\n",
    "    ids_test=X_test['id']    \n",
    "    X_test=X_test.drop(['id', 'type', 'molecule_name','bonds'], axis=1)\n",
    "    \n",
    "    "
   ]
  },
  {
   "cell_type": "code",
   "execution_count": null,
   "metadata": {},
   "outputs": [],
   "source": []
  }
 ],
 "metadata": {
  "kernelspec": {
   "display_name": "Python 3",
   "language": "python",
   "name": "python3"
  },
  "language_info": {
   "codemirror_mode": {
    "name": "ipython",
    "version": 3
   },
   "file_extension": ".py",
   "mimetype": "text/x-python",
   "name": "python",
   "nbconvert_exporter": "python",
   "pygments_lexer": "ipython3",
   "version": "3.6.8"
  }
 },
 "nbformat": 4,
 "nbformat_minor": 2
}
